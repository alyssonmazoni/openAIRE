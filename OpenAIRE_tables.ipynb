{
  "nbformat": 4,
  "nbformat_minor": 0,
  "metadata": {
    "colab": {
      "provenance": [],
      "toc_visible": true,
      "include_colab_link": true
    },
    "kernelspec": {
      "name": "python3",
      "display_name": "Python 3"
    },
    "language_info": {
      "name": "python"
    },
    "widgets": {
      "application/vnd.jupyter.widget-state+json": {
        "ed22567cac4a49e892db04598190f2b4": {
          "model_module": "@jupyter-widgets/controls",
          "model_name": "HBoxModel",
          "model_module_version": "1.5.0",
          "state": {
            "_dom_classes": [],
            "_model_module": "@jupyter-widgets/controls",
            "_model_module_version": "1.5.0",
            "_model_name": "HBoxModel",
            "_view_count": null,
            "_view_module": "@jupyter-widgets/controls",
            "_view_module_version": "1.5.0",
            "_view_name": "HBoxView",
            "box_style": "",
            "children": [
              "IPY_MODEL_b6f055e3c61544649119ddb5219fd838",
              "IPY_MODEL_3fca6d0f9142484ab367d7ca179340ec",
              "IPY_MODEL_f22e349ac5f143588836c3d779592159"
            ],
            "layout": "IPY_MODEL_c79960b08af6449fa1850ed7a633de70"
          }
        },
        "b6f055e3c61544649119ddb5219fd838": {
          "model_module": "@jupyter-widgets/controls",
          "model_name": "HTMLModel",
          "model_module_version": "1.5.0",
          "state": {
            "_dom_classes": [],
            "_model_module": "@jupyter-widgets/controls",
            "_model_module_version": "1.5.0",
            "_model_name": "HTMLModel",
            "_view_count": null,
            "_view_module": "@jupyter-widgets/controls",
            "_view_module_version": "1.5.0",
            "_view_name": "HTMLView",
            "description": "",
            "description_tooltip": null,
            "layout": "IPY_MODEL_95f699fb4bee4c37926c275baf9d8523",
            "placeholder": "​",
            "style": "IPY_MODEL_97b94af0e5024da4a311f17c7d1a134f",
            "value": "Job ID 5948efeb-8691-46b2-aead-0d3cecac92e5 successfully executed: 100%"
          }
        },
        "3fca6d0f9142484ab367d7ca179340ec": {
          "model_module": "@jupyter-widgets/controls",
          "model_name": "FloatProgressModel",
          "model_module_version": "1.5.0",
          "state": {
            "_dom_classes": [],
            "_model_module": "@jupyter-widgets/controls",
            "_model_module_version": "1.5.0",
            "_model_name": "FloatProgressModel",
            "_view_count": null,
            "_view_module": "@jupyter-widgets/controls",
            "_view_module_version": "1.5.0",
            "_view_name": "ProgressView",
            "bar_style": "success",
            "description": "",
            "description_tooltip": null,
            "layout": "IPY_MODEL_a525a4daee00492ab8e3882ff9d78278",
            "max": 1,
            "min": 0,
            "orientation": "horizontal",
            "style": "IPY_MODEL_27a21a9ad8f64922b4c1cdbfabd38a6c",
            "value": 1
          }
        },
        "f22e349ac5f143588836c3d779592159": {
          "model_module": "@jupyter-widgets/controls",
          "model_name": "HTMLModel",
          "model_module_version": "1.5.0",
          "state": {
            "_dom_classes": [],
            "_model_module": "@jupyter-widgets/controls",
            "_model_module_version": "1.5.0",
            "_model_name": "HTMLModel",
            "_view_count": null,
            "_view_module": "@jupyter-widgets/controls",
            "_view_module_version": "1.5.0",
            "_view_name": "HTMLView",
            "description": "",
            "description_tooltip": null,
            "layout": "IPY_MODEL_b35e644504574f32848065ecb6105176",
            "placeholder": "​",
            "style": "IPY_MODEL_28f2b09872b34488a9d4122316279403",
            "value": ""
          }
        },
        "c79960b08af6449fa1850ed7a633de70": {
          "model_module": "@jupyter-widgets/base",
          "model_name": "LayoutModel",
          "model_module_version": "1.2.0",
          "state": {
            "_model_module": "@jupyter-widgets/base",
            "_model_module_version": "1.2.0",
            "_model_name": "LayoutModel",
            "_view_count": null,
            "_view_module": "@jupyter-widgets/base",
            "_view_module_version": "1.2.0",
            "_view_name": "LayoutView",
            "align_content": null,
            "align_items": null,
            "align_self": null,
            "border": null,
            "bottom": null,
            "display": null,
            "flex": null,
            "flex_flow": null,
            "grid_area": null,
            "grid_auto_columns": null,
            "grid_auto_flow": null,
            "grid_auto_rows": null,
            "grid_column": null,
            "grid_gap": null,
            "grid_row": null,
            "grid_template_areas": null,
            "grid_template_columns": null,
            "grid_template_rows": null,
            "height": null,
            "justify_content": null,
            "justify_items": null,
            "left": null,
            "margin": null,
            "max_height": null,
            "max_width": null,
            "min_height": null,
            "min_width": null,
            "object_fit": null,
            "object_position": null,
            "order": null,
            "overflow": null,
            "overflow_x": null,
            "overflow_y": null,
            "padding": null,
            "right": null,
            "top": null,
            "visibility": null,
            "width": null
          }
        },
        "95f699fb4bee4c37926c275baf9d8523": {
          "model_module": "@jupyter-widgets/base",
          "model_name": "LayoutModel",
          "model_module_version": "1.2.0",
          "state": {
            "_model_module": "@jupyter-widgets/base",
            "_model_module_version": "1.2.0",
            "_model_name": "LayoutModel",
            "_view_count": null,
            "_view_module": "@jupyter-widgets/base",
            "_view_module_version": "1.2.0",
            "_view_name": "LayoutView",
            "align_content": null,
            "align_items": null,
            "align_self": null,
            "border": null,
            "bottom": null,
            "display": null,
            "flex": null,
            "flex_flow": null,
            "grid_area": null,
            "grid_auto_columns": null,
            "grid_auto_flow": null,
            "grid_auto_rows": null,
            "grid_column": null,
            "grid_gap": null,
            "grid_row": null,
            "grid_template_areas": null,
            "grid_template_columns": null,
            "grid_template_rows": null,
            "height": null,
            "justify_content": null,
            "justify_items": null,
            "left": null,
            "margin": null,
            "max_height": null,
            "max_width": null,
            "min_height": null,
            "min_width": null,
            "object_fit": null,
            "object_position": null,
            "order": null,
            "overflow": null,
            "overflow_x": null,
            "overflow_y": null,
            "padding": null,
            "right": null,
            "top": null,
            "visibility": null,
            "width": null
          }
        },
        "97b94af0e5024da4a311f17c7d1a134f": {
          "model_module": "@jupyter-widgets/controls",
          "model_name": "DescriptionStyleModel",
          "model_module_version": "1.5.0",
          "state": {
            "_model_module": "@jupyter-widgets/controls",
            "_model_module_version": "1.5.0",
            "_model_name": "DescriptionStyleModel",
            "_view_count": null,
            "_view_module": "@jupyter-widgets/base",
            "_view_module_version": "1.2.0",
            "_view_name": "StyleView",
            "description_width": ""
          }
        },
        "a525a4daee00492ab8e3882ff9d78278": {
          "model_module": "@jupyter-widgets/base",
          "model_name": "LayoutModel",
          "model_module_version": "1.2.0",
          "state": {
            "_model_module": "@jupyter-widgets/base",
            "_model_module_version": "1.2.0",
            "_model_name": "LayoutModel",
            "_view_count": null,
            "_view_module": "@jupyter-widgets/base",
            "_view_module_version": "1.2.0",
            "_view_name": "LayoutView",
            "align_content": null,
            "align_items": null,
            "align_self": null,
            "border": null,
            "bottom": null,
            "display": null,
            "flex": null,
            "flex_flow": null,
            "grid_area": null,
            "grid_auto_columns": null,
            "grid_auto_flow": null,
            "grid_auto_rows": null,
            "grid_column": null,
            "grid_gap": null,
            "grid_row": null,
            "grid_template_areas": null,
            "grid_template_columns": null,
            "grid_template_rows": null,
            "height": null,
            "justify_content": null,
            "justify_items": null,
            "left": null,
            "margin": null,
            "max_height": null,
            "max_width": null,
            "min_height": null,
            "min_width": null,
            "object_fit": null,
            "object_position": null,
            "order": null,
            "overflow": null,
            "overflow_x": null,
            "overflow_y": null,
            "padding": null,
            "right": null,
            "top": null,
            "visibility": null,
            "width": null
          }
        },
        "27a21a9ad8f64922b4c1cdbfabd38a6c": {
          "model_module": "@jupyter-widgets/controls",
          "model_name": "ProgressStyleModel",
          "model_module_version": "1.5.0",
          "state": {
            "_model_module": "@jupyter-widgets/controls",
            "_model_module_version": "1.5.0",
            "_model_name": "ProgressStyleModel",
            "_view_count": null,
            "_view_module": "@jupyter-widgets/base",
            "_view_module_version": "1.2.0",
            "_view_name": "StyleView",
            "bar_color": null,
            "description_width": ""
          }
        },
        "b35e644504574f32848065ecb6105176": {
          "model_module": "@jupyter-widgets/base",
          "model_name": "LayoutModel",
          "model_module_version": "1.2.0",
          "state": {
            "_model_module": "@jupyter-widgets/base",
            "_model_module_version": "1.2.0",
            "_model_name": "LayoutModel",
            "_view_count": null,
            "_view_module": "@jupyter-widgets/base",
            "_view_module_version": "1.2.0",
            "_view_name": "LayoutView",
            "align_content": null,
            "align_items": null,
            "align_self": null,
            "border": null,
            "bottom": null,
            "display": null,
            "flex": null,
            "flex_flow": null,
            "grid_area": null,
            "grid_auto_columns": null,
            "grid_auto_flow": null,
            "grid_auto_rows": null,
            "grid_column": null,
            "grid_gap": null,
            "grid_row": null,
            "grid_template_areas": null,
            "grid_template_columns": null,
            "grid_template_rows": null,
            "height": null,
            "justify_content": null,
            "justify_items": null,
            "left": null,
            "margin": null,
            "max_height": null,
            "max_width": null,
            "min_height": null,
            "min_width": null,
            "object_fit": null,
            "object_position": null,
            "order": null,
            "overflow": null,
            "overflow_x": null,
            "overflow_y": null,
            "padding": null,
            "right": null,
            "top": null,
            "visibility": null,
            "width": null
          }
        },
        "28f2b09872b34488a9d4122316279403": {
          "model_module": "@jupyter-widgets/controls",
          "model_name": "DescriptionStyleModel",
          "model_module_version": "1.5.0",
          "state": {
            "_model_module": "@jupyter-widgets/controls",
            "_model_module_version": "1.5.0",
            "_model_name": "DescriptionStyleModel",
            "_view_count": null,
            "_view_module": "@jupyter-widgets/base",
            "_view_module_version": "1.2.0",
            "_view_name": "StyleView",
            "description_width": ""
          }
        },
        "d93b7ceaca22491486c1eddd64c834b5": {
          "model_module": "@jupyter-widgets/controls",
          "model_name": "HBoxModel",
          "model_module_version": "1.5.0",
          "state": {
            "_dom_classes": [],
            "_model_module": "@jupyter-widgets/controls",
            "_model_module_version": "1.5.0",
            "_model_name": "HBoxModel",
            "_view_count": null,
            "_view_module": "@jupyter-widgets/controls",
            "_view_module_version": "1.5.0",
            "_view_name": "HBoxView",
            "box_style": "",
            "children": [
              "IPY_MODEL_408df5c8b9ee49c0b0159f731f370505",
              "IPY_MODEL_ff7a9264f1534d9587b9e89ecf163d9b",
              "IPY_MODEL_6b43e0c0c95b44189eadfafd22e83424"
            ],
            "layout": "IPY_MODEL_1c5233b1804e4c8ca002116343730cc6"
          }
        },
        "408df5c8b9ee49c0b0159f731f370505": {
          "model_module": "@jupyter-widgets/controls",
          "model_name": "HTMLModel",
          "model_module_version": "1.5.0",
          "state": {
            "_dom_classes": [],
            "_model_module": "@jupyter-widgets/controls",
            "_model_module_version": "1.5.0",
            "_model_name": "HTMLModel",
            "_view_count": null,
            "_view_module": "@jupyter-widgets/controls",
            "_view_module_version": "1.5.0",
            "_view_name": "HTMLView",
            "description": "",
            "description_tooltip": null,
            "layout": "IPY_MODEL_9a7d811b70ed4336bd97a75a0a03b10d",
            "placeholder": "​",
            "style": "IPY_MODEL_4331be00ba894c28a956ec4284fd8381",
            "value": "Job ID 1aa7753f-cf6a-4235-8c90-a502f1991343 successfully executed: 100%"
          }
        },
        "ff7a9264f1534d9587b9e89ecf163d9b": {
          "model_module": "@jupyter-widgets/controls",
          "model_name": "FloatProgressModel",
          "model_module_version": "1.5.0",
          "state": {
            "_dom_classes": [],
            "_model_module": "@jupyter-widgets/controls",
            "_model_module_version": "1.5.0",
            "_model_name": "FloatProgressModel",
            "_view_count": null,
            "_view_module": "@jupyter-widgets/controls",
            "_view_module_version": "1.5.0",
            "_view_name": "ProgressView",
            "bar_style": "success",
            "description": "",
            "description_tooltip": null,
            "layout": "IPY_MODEL_ef80ef2b19404b9e97e423fe760fa32a",
            "max": 1,
            "min": 0,
            "orientation": "horizontal",
            "style": "IPY_MODEL_0d78e3ba39a34caeb8c6af98baf8e9b4",
            "value": 1
          }
        },
        "6b43e0c0c95b44189eadfafd22e83424": {
          "model_module": "@jupyter-widgets/controls",
          "model_name": "HTMLModel",
          "model_module_version": "1.5.0",
          "state": {
            "_dom_classes": [],
            "_model_module": "@jupyter-widgets/controls",
            "_model_module_version": "1.5.0",
            "_model_name": "HTMLModel",
            "_view_count": null,
            "_view_module": "@jupyter-widgets/controls",
            "_view_module_version": "1.5.0",
            "_view_name": "HTMLView",
            "description": "",
            "description_tooltip": null,
            "layout": "IPY_MODEL_66038724027e4023b8b30cb0966c31f5",
            "placeholder": "​",
            "style": "IPY_MODEL_591e5249e90d4e99b76cf4eb945afbcb",
            "value": ""
          }
        },
        "1c5233b1804e4c8ca002116343730cc6": {
          "model_module": "@jupyter-widgets/base",
          "model_name": "LayoutModel",
          "model_module_version": "1.2.0",
          "state": {
            "_model_module": "@jupyter-widgets/base",
            "_model_module_version": "1.2.0",
            "_model_name": "LayoutModel",
            "_view_count": null,
            "_view_module": "@jupyter-widgets/base",
            "_view_module_version": "1.2.0",
            "_view_name": "LayoutView",
            "align_content": null,
            "align_items": null,
            "align_self": null,
            "border": null,
            "bottom": null,
            "display": null,
            "flex": null,
            "flex_flow": null,
            "grid_area": null,
            "grid_auto_columns": null,
            "grid_auto_flow": null,
            "grid_auto_rows": null,
            "grid_column": null,
            "grid_gap": null,
            "grid_row": null,
            "grid_template_areas": null,
            "grid_template_columns": null,
            "grid_template_rows": null,
            "height": null,
            "justify_content": null,
            "justify_items": null,
            "left": null,
            "margin": null,
            "max_height": null,
            "max_width": null,
            "min_height": null,
            "min_width": null,
            "object_fit": null,
            "object_position": null,
            "order": null,
            "overflow": null,
            "overflow_x": null,
            "overflow_y": null,
            "padding": null,
            "right": null,
            "top": null,
            "visibility": null,
            "width": null
          }
        },
        "9a7d811b70ed4336bd97a75a0a03b10d": {
          "model_module": "@jupyter-widgets/base",
          "model_name": "LayoutModel",
          "model_module_version": "1.2.0",
          "state": {
            "_model_module": "@jupyter-widgets/base",
            "_model_module_version": "1.2.0",
            "_model_name": "LayoutModel",
            "_view_count": null,
            "_view_module": "@jupyter-widgets/base",
            "_view_module_version": "1.2.0",
            "_view_name": "LayoutView",
            "align_content": null,
            "align_items": null,
            "align_self": null,
            "border": null,
            "bottom": null,
            "display": null,
            "flex": null,
            "flex_flow": null,
            "grid_area": null,
            "grid_auto_columns": null,
            "grid_auto_flow": null,
            "grid_auto_rows": null,
            "grid_column": null,
            "grid_gap": null,
            "grid_row": null,
            "grid_template_areas": null,
            "grid_template_columns": null,
            "grid_template_rows": null,
            "height": null,
            "justify_content": null,
            "justify_items": null,
            "left": null,
            "margin": null,
            "max_height": null,
            "max_width": null,
            "min_height": null,
            "min_width": null,
            "object_fit": null,
            "object_position": null,
            "order": null,
            "overflow": null,
            "overflow_x": null,
            "overflow_y": null,
            "padding": null,
            "right": null,
            "top": null,
            "visibility": null,
            "width": null
          }
        },
        "4331be00ba894c28a956ec4284fd8381": {
          "model_module": "@jupyter-widgets/controls",
          "model_name": "DescriptionStyleModel",
          "model_module_version": "1.5.0",
          "state": {
            "_model_module": "@jupyter-widgets/controls",
            "_model_module_version": "1.5.0",
            "_model_name": "DescriptionStyleModel",
            "_view_count": null,
            "_view_module": "@jupyter-widgets/base",
            "_view_module_version": "1.2.0",
            "_view_name": "StyleView",
            "description_width": ""
          }
        },
        "ef80ef2b19404b9e97e423fe760fa32a": {
          "model_module": "@jupyter-widgets/base",
          "model_name": "LayoutModel",
          "model_module_version": "1.2.0",
          "state": {
            "_model_module": "@jupyter-widgets/base",
            "_model_module_version": "1.2.0",
            "_model_name": "LayoutModel",
            "_view_count": null,
            "_view_module": "@jupyter-widgets/base",
            "_view_module_version": "1.2.0",
            "_view_name": "LayoutView",
            "align_content": null,
            "align_items": null,
            "align_self": null,
            "border": null,
            "bottom": null,
            "display": null,
            "flex": null,
            "flex_flow": null,
            "grid_area": null,
            "grid_auto_columns": null,
            "grid_auto_flow": null,
            "grid_auto_rows": null,
            "grid_column": null,
            "grid_gap": null,
            "grid_row": null,
            "grid_template_areas": null,
            "grid_template_columns": null,
            "grid_template_rows": null,
            "height": null,
            "justify_content": null,
            "justify_items": null,
            "left": null,
            "margin": null,
            "max_height": null,
            "max_width": null,
            "min_height": null,
            "min_width": null,
            "object_fit": null,
            "object_position": null,
            "order": null,
            "overflow": null,
            "overflow_x": null,
            "overflow_y": null,
            "padding": null,
            "right": null,
            "top": null,
            "visibility": null,
            "width": null
          }
        },
        "0d78e3ba39a34caeb8c6af98baf8e9b4": {
          "model_module": "@jupyter-widgets/controls",
          "model_name": "ProgressStyleModel",
          "model_module_version": "1.5.0",
          "state": {
            "_model_module": "@jupyter-widgets/controls",
            "_model_module_version": "1.5.0",
            "_model_name": "ProgressStyleModel",
            "_view_count": null,
            "_view_module": "@jupyter-widgets/base",
            "_view_module_version": "1.2.0",
            "_view_name": "StyleView",
            "bar_color": null,
            "description_width": ""
          }
        },
        "66038724027e4023b8b30cb0966c31f5": {
          "model_module": "@jupyter-widgets/base",
          "model_name": "LayoutModel",
          "model_module_version": "1.2.0",
          "state": {
            "_model_module": "@jupyter-widgets/base",
            "_model_module_version": "1.2.0",
            "_model_name": "LayoutModel",
            "_view_count": null,
            "_view_module": "@jupyter-widgets/base",
            "_view_module_version": "1.2.0",
            "_view_name": "LayoutView",
            "align_content": null,
            "align_items": null,
            "align_self": null,
            "border": null,
            "bottom": null,
            "display": null,
            "flex": null,
            "flex_flow": null,
            "grid_area": null,
            "grid_auto_columns": null,
            "grid_auto_flow": null,
            "grid_auto_rows": null,
            "grid_column": null,
            "grid_gap": null,
            "grid_row": null,
            "grid_template_areas": null,
            "grid_template_columns": null,
            "grid_template_rows": null,
            "height": null,
            "justify_content": null,
            "justify_items": null,
            "left": null,
            "margin": null,
            "max_height": null,
            "max_width": null,
            "min_height": null,
            "min_width": null,
            "object_fit": null,
            "object_position": null,
            "order": null,
            "overflow": null,
            "overflow_x": null,
            "overflow_y": null,
            "padding": null,
            "right": null,
            "top": null,
            "visibility": null,
            "width": null
          }
        },
        "591e5249e90d4e99b76cf4eb945afbcb": {
          "model_module": "@jupyter-widgets/controls",
          "model_name": "DescriptionStyleModel",
          "model_module_version": "1.5.0",
          "state": {
            "_model_module": "@jupyter-widgets/controls",
            "_model_module_version": "1.5.0",
            "_model_name": "DescriptionStyleModel",
            "_view_count": null,
            "_view_module": "@jupyter-widgets/base",
            "_view_module_version": "1.2.0",
            "_view_name": "StyleView",
            "description_width": ""
          }
        },
        "7cc353d08687431b9bf9e8c404335305": {
          "model_module": "@jupyter-widgets/controls",
          "model_name": "HBoxModel",
          "model_module_version": "1.5.0",
          "state": {
            "_dom_classes": [],
            "_model_module": "@jupyter-widgets/controls",
            "_model_module_version": "1.5.0",
            "_model_name": "HBoxModel",
            "_view_count": null,
            "_view_module": "@jupyter-widgets/controls",
            "_view_module_version": "1.5.0",
            "_view_name": "HBoxView",
            "box_style": "",
            "children": [
              "IPY_MODEL_6c069138ecca4d598fbc4248abb34476",
              "IPY_MODEL_ab88a16f70fe4cf196a14bb192c78d45",
              "IPY_MODEL_196124edf8cd4ff9ba910d14000d8c7a"
            ],
            "layout": "IPY_MODEL_1379c895286d4f1390adbbf342583051"
          }
        },
        "6c069138ecca4d598fbc4248abb34476": {
          "model_module": "@jupyter-widgets/controls",
          "model_name": "HTMLModel",
          "model_module_version": "1.5.0",
          "state": {
            "_dom_classes": [],
            "_model_module": "@jupyter-widgets/controls",
            "_model_module_version": "1.5.0",
            "_model_name": "HTMLModel",
            "_view_count": null,
            "_view_module": "@jupyter-widgets/controls",
            "_view_module_version": "1.5.0",
            "_view_name": "HTMLView",
            "description": "",
            "description_tooltip": null,
            "layout": "IPY_MODEL_0b4763c169be4ac7a8e86d12f7984003",
            "placeholder": "​",
            "style": "IPY_MODEL_aad0e413d0c44358b786661ca11faad4",
            "value": "Job ID fa7c82ba-3aba-40bb-a1c1-1f3fac1b7fd3 successfully executed: 100%"
          }
        },
        "ab88a16f70fe4cf196a14bb192c78d45": {
          "model_module": "@jupyter-widgets/controls",
          "model_name": "FloatProgressModel",
          "model_module_version": "1.5.0",
          "state": {
            "_dom_classes": [],
            "_model_module": "@jupyter-widgets/controls",
            "_model_module_version": "1.5.0",
            "_model_name": "FloatProgressModel",
            "_view_count": null,
            "_view_module": "@jupyter-widgets/controls",
            "_view_module_version": "1.5.0",
            "_view_name": "ProgressView",
            "bar_style": "success",
            "description": "",
            "description_tooltip": null,
            "layout": "IPY_MODEL_d1285053233d4b9688ffa04238ac1803",
            "max": 1,
            "min": 0,
            "orientation": "horizontal",
            "style": "IPY_MODEL_94c038b9535b4ea5bbe135ba1d04f5ae",
            "value": 1
          }
        },
        "196124edf8cd4ff9ba910d14000d8c7a": {
          "model_module": "@jupyter-widgets/controls",
          "model_name": "HTMLModel",
          "model_module_version": "1.5.0",
          "state": {
            "_dom_classes": [],
            "_model_module": "@jupyter-widgets/controls",
            "_model_module_version": "1.5.0",
            "_model_name": "HTMLModel",
            "_view_count": null,
            "_view_module": "@jupyter-widgets/controls",
            "_view_module_version": "1.5.0",
            "_view_name": "HTMLView",
            "description": "",
            "description_tooltip": null,
            "layout": "IPY_MODEL_488d42e0eacd49139a0fef6ae9dd7c28",
            "placeholder": "​",
            "style": "IPY_MODEL_f9f070790d20425fb05d0ce9a01cefcb",
            "value": ""
          }
        },
        "1379c895286d4f1390adbbf342583051": {
          "model_module": "@jupyter-widgets/base",
          "model_name": "LayoutModel",
          "model_module_version": "1.2.0",
          "state": {
            "_model_module": "@jupyter-widgets/base",
            "_model_module_version": "1.2.0",
            "_model_name": "LayoutModel",
            "_view_count": null,
            "_view_module": "@jupyter-widgets/base",
            "_view_module_version": "1.2.0",
            "_view_name": "LayoutView",
            "align_content": null,
            "align_items": null,
            "align_self": null,
            "border": null,
            "bottom": null,
            "display": null,
            "flex": null,
            "flex_flow": null,
            "grid_area": null,
            "grid_auto_columns": null,
            "grid_auto_flow": null,
            "grid_auto_rows": null,
            "grid_column": null,
            "grid_gap": null,
            "grid_row": null,
            "grid_template_areas": null,
            "grid_template_columns": null,
            "grid_template_rows": null,
            "height": null,
            "justify_content": null,
            "justify_items": null,
            "left": null,
            "margin": null,
            "max_height": null,
            "max_width": null,
            "min_height": null,
            "min_width": null,
            "object_fit": null,
            "object_position": null,
            "order": null,
            "overflow": null,
            "overflow_x": null,
            "overflow_y": null,
            "padding": null,
            "right": null,
            "top": null,
            "visibility": null,
            "width": null
          }
        },
        "0b4763c169be4ac7a8e86d12f7984003": {
          "model_module": "@jupyter-widgets/base",
          "model_name": "LayoutModel",
          "model_module_version": "1.2.0",
          "state": {
            "_model_module": "@jupyter-widgets/base",
            "_model_module_version": "1.2.0",
            "_model_name": "LayoutModel",
            "_view_count": null,
            "_view_module": "@jupyter-widgets/base",
            "_view_module_version": "1.2.0",
            "_view_name": "LayoutView",
            "align_content": null,
            "align_items": null,
            "align_self": null,
            "border": null,
            "bottom": null,
            "display": null,
            "flex": null,
            "flex_flow": null,
            "grid_area": null,
            "grid_auto_columns": null,
            "grid_auto_flow": null,
            "grid_auto_rows": null,
            "grid_column": null,
            "grid_gap": null,
            "grid_row": null,
            "grid_template_areas": null,
            "grid_template_columns": null,
            "grid_template_rows": null,
            "height": null,
            "justify_content": null,
            "justify_items": null,
            "left": null,
            "margin": null,
            "max_height": null,
            "max_width": null,
            "min_height": null,
            "min_width": null,
            "object_fit": null,
            "object_position": null,
            "order": null,
            "overflow": null,
            "overflow_x": null,
            "overflow_y": null,
            "padding": null,
            "right": null,
            "top": null,
            "visibility": null,
            "width": null
          }
        },
        "aad0e413d0c44358b786661ca11faad4": {
          "model_module": "@jupyter-widgets/controls",
          "model_name": "DescriptionStyleModel",
          "model_module_version": "1.5.0",
          "state": {
            "_model_module": "@jupyter-widgets/controls",
            "_model_module_version": "1.5.0",
            "_model_name": "DescriptionStyleModel",
            "_view_count": null,
            "_view_module": "@jupyter-widgets/base",
            "_view_module_version": "1.2.0",
            "_view_name": "StyleView",
            "description_width": ""
          }
        },
        "d1285053233d4b9688ffa04238ac1803": {
          "model_module": "@jupyter-widgets/base",
          "model_name": "LayoutModel",
          "model_module_version": "1.2.0",
          "state": {
            "_model_module": "@jupyter-widgets/base",
            "_model_module_version": "1.2.0",
            "_model_name": "LayoutModel",
            "_view_count": null,
            "_view_module": "@jupyter-widgets/base",
            "_view_module_version": "1.2.0",
            "_view_name": "LayoutView",
            "align_content": null,
            "align_items": null,
            "align_self": null,
            "border": null,
            "bottom": null,
            "display": null,
            "flex": null,
            "flex_flow": null,
            "grid_area": null,
            "grid_auto_columns": null,
            "grid_auto_flow": null,
            "grid_auto_rows": null,
            "grid_column": null,
            "grid_gap": null,
            "grid_row": null,
            "grid_template_areas": null,
            "grid_template_columns": null,
            "grid_template_rows": null,
            "height": null,
            "justify_content": null,
            "justify_items": null,
            "left": null,
            "margin": null,
            "max_height": null,
            "max_width": null,
            "min_height": null,
            "min_width": null,
            "object_fit": null,
            "object_position": null,
            "order": null,
            "overflow": null,
            "overflow_x": null,
            "overflow_y": null,
            "padding": null,
            "right": null,
            "top": null,
            "visibility": null,
            "width": null
          }
        },
        "94c038b9535b4ea5bbe135ba1d04f5ae": {
          "model_module": "@jupyter-widgets/controls",
          "model_name": "ProgressStyleModel",
          "model_module_version": "1.5.0",
          "state": {
            "_model_module": "@jupyter-widgets/controls",
            "_model_module_version": "1.5.0",
            "_model_name": "ProgressStyleModel",
            "_view_count": null,
            "_view_module": "@jupyter-widgets/base",
            "_view_module_version": "1.2.0",
            "_view_name": "StyleView",
            "bar_color": null,
            "description_width": ""
          }
        },
        "488d42e0eacd49139a0fef6ae9dd7c28": {
          "model_module": "@jupyter-widgets/base",
          "model_name": "LayoutModel",
          "model_module_version": "1.2.0",
          "state": {
            "_model_module": "@jupyter-widgets/base",
            "_model_module_version": "1.2.0",
            "_model_name": "LayoutModel",
            "_view_count": null,
            "_view_module": "@jupyter-widgets/base",
            "_view_module_version": "1.2.0",
            "_view_name": "LayoutView",
            "align_content": null,
            "align_items": null,
            "align_self": null,
            "border": null,
            "bottom": null,
            "display": null,
            "flex": null,
            "flex_flow": null,
            "grid_area": null,
            "grid_auto_columns": null,
            "grid_auto_flow": null,
            "grid_auto_rows": null,
            "grid_column": null,
            "grid_gap": null,
            "grid_row": null,
            "grid_template_areas": null,
            "grid_template_columns": null,
            "grid_template_rows": null,
            "height": null,
            "justify_content": null,
            "justify_items": null,
            "left": null,
            "margin": null,
            "max_height": null,
            "max_width": null,
            "min_height": null,
            "min_width": null,
            "object_fit": null,
            "object_position": null,
            "order": null,
            "overflow": null,
            "overflow_x": null,
            "overflow_y": null,
            "padding": null,
            "right": null,
            "top": null,
            "visibility": null,
            "width": null
          }
        },
        "f9f070790d20425fb05d0ce9a01cefcb": {
          "model_module": "@jupyter-widgets/controls",
          "model_name": "DescriptionStyleModel",
          "model_module_version": "1.5.0",
          "state": {
            "_model_module": "@jupyter-widgets/controls",
            "_model_module_version": "1.5.0",
            "_model_name": "DescriptionStyleModel",
            "_view_count": null,
            "_view_module": "@jupyter-widgets/base",
            "_view_module_version": "1.2.0",
            "_view_name": "StyleView",
            "description_width": ""
          }
        },
        "94e773ee6f13411ca012563e3b077473": {
          "model_module": "@jupyter-widgets/controls",
          "model_name": "HBoxModel",
          "model_module_version": "1.5.0",
          "state": {
            "_dom_classes": [],
            "_model_module": "@jupyter-widgets/controls",
            "_model_module_version": "1.5.0",
            "_model_name": "HBoxModel",
            "_view_count": null,
            "_view_module": "@jupyter-widgets/controls",
            "_view_module_version": "1.5.0",
            "_view_name": "HBoxView",
            "box_style": "",
            "children": [
              "IPY_MODEL_3a6470936c3d4689881a24a27c5f089d",
              "IPY_MODEL_96b3a56b6ea540419c12de8ff45a10c2",
              "IPY_MODEL_c0330bf0e0cf461a87fcfdc538592571"
            ],
            "layout": "IPY_MODEL_8f146d33d50d4222bd0bdc2fd4ce627e"
          }
        },
        "3a6470936c3d4689881a24a27c5f089d": {
          "model_module": "@jupyter-widgets/controls",
          "model_name": "HTMLModel",
          "model_module_version": "1.5.0",
          "state": {
            "_dom_classes": [],
            "_model_module": "@jupyter-widgets/controls",
            "_model_module_version": "1.5.0",
            "_model_name": "HTMLModel",
            "_view_count": null,
            "_view_module": "@jupyter-widgets/controls",
            "_view_module_version": "1.5.0",
            "_view_name": "HTMLView",
            "description": "",
            "description_tooltip": null,
            "layout": "IPY_MODEL_899d4becc6264d2f958316840c503080",
            "placeholder": "​",
            "style": "IPY_MODEL_8e494ff29d394f35a20fcfb577dc3351",
            "value": "Job ID ff82e5c7-eef1-4734-83ea-0d4d72d89ec5 successfully executed: 100%"
          }
        },
        "96b3a56b6ea540419c12de8ff45a10c2": {
          "model_module": "@jupyter-widgets/controls",
          "model_name": "FloatProgressModel",
          "model_module_version": "1.5.0",
          "state": {
            "_dom_classes": [],
            "_model_module": "@jupyter-widgets/controls",
            "_model_module_version": "1.5.0",
            "_model_name": "FloatProgressModel",
            "_view_count": null,
            "_view_module": "@jupyter-widgets/controls",
            "_view_module_version": "1.5.0",
            "_view_name": "ProgressView",
            "bar_style": "success",
            "description": "",
            "description_tooltip": null,
            "layout": "IPY_MODEL_77b8d65f3dcb4565bf18853d1b9cd2c5",
            "max": 1,
            "min": 0,
            "orientation": "horizontal",
            "style": "IPY_MODEL_c7f6c5b5b8064a9b9037c1e66eefc68f",
            "value": 1
          }
        },
        "c0330bf0e0cf461a87fcfdc538592571": {
          "model_module": "@jupyter-widgets/controls",
          "model_name": "HTMLModel",
          "model_module_version": "1.5.0",
          "state": {
            "_dom_classes": [],
            "_model_module": "@jupyter-widgets/controls",
            "_model_module_version": "1.5.0",
            "_model_name": "HTMLModel",
            "_view_count": null,
            "_view_module": "@jupyter-widgets/controls",
            "_view_module_version": "1.5.0",
            "_view_name": "HTMLView",
            "description": "",
            "description_tooltip": null,
            "layout": "IPY_MODEL_1b83b49ce7534e38ba0252c5cb8bf95c",
            "placeholder": "​",
            "style": "IPY_MODEL_841677e346e74ae68fc81a98bd418d00",
            "value": ""
          }
        },
        "8f146d33d50d4222bd0bdc2fd4ce627e": {
          "model_module": "@jupyter-widgets/base",
          "model_name": "LayoutModel",
          "model_module_version": "1.2.0",
          "state": {
            "_model_module": "@jupyter-widgets/base",
            "_model_module_version": "1.2.0",
            "_model_name": "LayoutModel",
            "_view_count": null,
            "_view_module": "@jupyter-widgets/base",
            "_view_module_version": "1.2.0",
            "_view_name": "LayoutView",
            "align_content": null,
            "align_items": null,
            "align_self": null,
            "border": null,
            "bottom": null,
            "display": null,
            "flex": null,
            "flex_flow": null,
            "grid_area": null,
            "grid_auto_columns": null,
            "grid_auto_flow": null,
            "grid_auto_rows": null,
            "grid_column": null,
            "grid_gap": null,
            "grid_row": null,
            "grid_template_areas": null,
            "grid_template_columns": null,
            "grid_template_rows": null,
            "height": null,
            "justify_content": null,
            "justify_items": null,
            "left": null,
            "margin": null,
            "max_height": null,
            "max_width": null,
            "min_height": null,
            "min_width": null,
            "object_fit": null,
            "object_position": null,
            "order": null,
            "overflow": null,
            "overflow_x": null,
            "overflow_y": null,
            "padding": null,
            "right": null,
            "top": null,
            "visibility": null,
            "width": null
          }
        },
        "899d4becc6264d2f958316840c503080": {
          "model_module": "@jupyter-widgets/base",
          "model_name": "LayoutModel",
          "model_module_version": "1.2.0",
          "state": {
            "_model_module": "@jupyter-widgets/base",
            "_model_module_version": "1.2.0",
            "_model_name": "LayoutModel",
            "_view_count": null,
            "_view_module": "@jupyter-widgets/base",
            "_view_module_version": "1.2.0",
            "_view_name": "LayoutView",
            "align_content": null,
            "align_items": null,
            "align_self": null,
            "border": null,
            "bottom": null,
            "display": null,
            "flex": null,
            "flex_flow": null,
            "grid_area": null,
            "grid_auto_columns": null,
            "grid_auto_flow": null,
            "grid_auto_rows": null,
            "grid_column": null,
            "grid_gap": null,
            "grid_row": null,
            "grid_template_areas": null,
            "grid_template_columns": null,
            "grid_template_rows": null,
            "height": null,
            "justify_content": null,
            "justify_items": null,
            "left": null,
            "margin": null,
            "max_height": null,
            "max_width": null,
            "min_height": null,
            "min_width": null,
            "object_fit": null,
            "object_position": null,
            "order": null,
            "overflow": null,
            "overflow_x": null,
            "overflow_y": null,
            "padding": null,
            "right": null,
            "top": null,
            "visibility": null,
            "width": null
          }
        },
        "8e494ff29d394f35a20fcfb577dc3351": {
          "model_module": "@jupyter-widgets/controls",
          "model_name": "DescriptionStyleModel",
          "model_module_version": "1.5.0",
          "state": {
            "_model_module": "@jupyter-widgets/controls",
            "_model_module_version": "1.5.0",
            "_model_name": "DescriptionStyleModel",
            "_view_count": null,
            "_view_module": "@jupyter-widgets/base",
            "_view_module_version": "1.2.0",
            "_view_name": "StyleView",
            "description_width": ""
          }
        },
        "77b8d65f3dcb4565bf18853d1b9cd2c5": {
          "model_module": "@jupyter-widgets/base",
          "model_name": "LayoutModel",
          "model_module_version": "1.2.0",
          "state": {
            "_model_module": "@jupyter-widgets/base",
            "_model_module_version": "1.2.0",
            "_model_name": "LayoutModel",
            "_view_count": null,
            "_view_module": "@jupyter-widgets/base",
            "_view_module_version": "1.2.0",
            "_view_name": "LayoutView",
            "align_content": null,
            "align_items": null,
            "align_self": null,
            "border": null,
            "bottom": null,
            "display": null,
            "flex": null,
            "flex_flow": null,
            "grid_area": null,
            "grid_auto_columns": null,
            "grid_auto_flow": null,
            "grid_auto_rows": null,
            "grid_column": null,
            "grid_gap": null,
            "grid_row": null,
            "grid_template_areas": null,
            "grid_template_columns": null,
            "grid_template_rows": null,
            "height": null,
            "justify_content": null,
            "justify_items": null,
            "left": null,
            "margin": null,
            "max_height": null,
            "max_width": null,
            "min_height": null,
            "min_width": null,
            "object_fit": null,
            "object_position": null,
            "order": null,
            "overflow": null,
            "overflow_x": null,
            "overflow_y": null,
            "padding": null,
            "right": null,
            "top": null,
            "visibility": null,
            "width": null
          }
        },
        "c7f6c5b5b8064a9b9037c1e66eefc68f": {
          "model_module": "@jupyter-widgets/controls",
          "model_name": "ProgressStyleModel",
          "model_module_version": "1.5.0",
          "state": {
            "_model_module": "@jupyter-widgets/controls",
            "_model_module_version": "1.5.0",
            "_model_name": "ProgressStyleModel",
            "_view_count": null,
            "_view_module": "@jupyter-widgets/base",
            "_view_module_version": "1.2.0",
            "_view_name": "StyleView",
            "bar_color": null,
            "description_width": ""
          }
        },
        "1b83b49ce7534e38ba0252c5cb8bf95c": {
          "model_module": "@jupyter-widgets/base",
          "model_name": "LayoutModel",
          "model_module_version": "1.2.0",
          "state": {
            "_model_module": "@jupyter-widgets/base",
            "_model_module_version": "1.2.0",
            "_model_name": "LayoutModel",
            "_view_count": null,
            "_view_module": "@jupyter-widgets/base",
            "_view_module_version": "1.2.0",
            "_view_name": "LayoutView",
            "align_content": null,
            "align_items": null,
            "align_self": null,
            "border": null,
            "bottom": null,
            "display": null,
            "flex": null,
            "flex_flow": null,
            "grid_area": null,
            "grid_auto_columns": null,
            "grid_auto_flow": null,
            "grid_auto_rows": null,
            "grid_column": null,
            "grid_gap": null,
            "grid_row": null,
            "grid_template_areas": null,
            "grid_template_columns": null,
            "grid_template_rows": null,
            "height": null,
            "justify_content": null,
            "justify_items": null,
            "left": null,
            "margin": null,
            "max_height": null,
            "max_width": null,
            "min_height": null,
            "min_width": null,
            "object_fit": null,
            "object_position": null,
            "order": null,
            "overflow": null,
            "overflow_x": null,
            "overflow_y": null,
            "padding": null,
            "right": null,
            "top": null,
            "visibility": null,
            "width": null
          }
        },
        "841677e346e74ae68fc81a98bd418d00": {
          "model_module": "@jupyter-widgets/controls",
          "model_name": "DescriptionStyleModel",
          "model_module_version": "1.5.0",
          "state": {
            "_model_module": "@jupyter-widgets/controls",
            "_model_module_version": "1.5.0",
            "_model_name": "DescriptionStyleModel",
            "_view_count": null,
            "_view_module": "@jupyter-widgets/base",
            "_view_module_version": "1.2.0",
            "_view_name": "StyleView",
            "description_width": ""
          }
        }
      }
    }
  },
  "cells": [
    {
      "cell_type": "markdown",
      "metadata": {
        "id": "view-in-github",
        "colab_type": "text"
      },
      "source": [
        "<a href=\"https://colab.research.google.com/github/alyssonmazoni/openAIRE/blob/main/OpenAIRE_tables.ipynb\" target=\"_parent\"><img src=\"https://colab.research.google.com/assets/colab-badge.svg\" alt=\"Open In Colab\"/></a>"
      ]
    },
    {
      "cell_type": "markdown",
      "source": [
        "# Preparation"
      ],
      "metadata": {
        "id": "HMPuckNgVlwD"
      }
    },
    {
      "cell_type": "code",
      "execution_count": null,
      "metadata": {
        "id": "HYbCrwrCVMNZ",
        "colab": {
          "base_uri": "https://localhost:8080/"
        },
        "outputId": "b17a3699-18ce-4557-9c69-c167433cb08c"
      },
      "outputs": [
        {
          "output_type": "stream",
          "name": "stdout",
          "text": [
            "Authenticated\n"
          ]
        }
      ],
      "source": [
        "from google.colab import auth\n",
        "auth.authenticate_user()\n",
        "print('Authenticated')"
      ]
    },
    {
      "cell_type": "markdown",
      "source": [
        "# Publications"
      ],
      "metadata": {
        "id": "UIqKxRMBVo_s"
      }
    },
    {
      "cell_type": "code",
      "source": [
        "%%bigquery\n",
        "\n",
        "DROP TABLE IF EXISTS `insyspo.publicdb_openaire_rm.publications`;\n",
        "CREATE TABLE `insyspo.publicdb_openaire_rm.publications` AS (\n",
        "  SELECT\n",
        "    TRIM(JSON_QUERY(publication, '$.id'),'\"') AS id,\n",
        "    TRIM(JSON_QUERY(publication, '$.type'),'\"') AS type,\n",
        "    JSON_QUERY_ARRAY(publication, '$.originalId') AS originalId,\n",
        "    TRIM(JSON_QUERY(publication, '$.maintitle'),'\"') AS maintitle,\n",
        "    TRIM(JSON_QUERY(publication, '$.subtitle'),'\"') AS subtitle,\n",
        "    JSON_QUERY_ARRAY(publication, '$.author') AS authors,\n",
        "    JSON_QUERY_ARRAY(publication, '$.contributor') AS contributor,\n",
        "    JSON_QUERY_ARRAY(publication, '$.country') AS country,\n",
        "    JSON_QUERY_ARRAY(publication, '$.coverage') AS coverage,\n",
        "    JSON_QUERY(publication, '$.bestaccessright') AS bestaccessright,\n",
        "    CAST(TRIM(JSON_QUERY(publication, '$.dateofcollection'),'\"') AS DATETIME) AS dateofcollection,\n",
        "    JSON_QUERY_ARRAY(publication, '$.description') AS description,\n",
        "    TRIM(JSON_QUERY(publication, '$.embargoenddate'),'\"') AS embargoenddate,\n",
        "    JSON_QUERY(publication, '$.indicators') AS indicators,\n",
        "    JSON_QUERY_ARRAY(publication, '$.instance') AS instance,\n",
        "    TRIM(JSON_QUERY(publication, '$.language.label'),'\"') AS language,\n",
        "    TRIM(JSON_QUERY(publication, '$.language.code'),'\"') AS lang,\n",
        "    TRIM(JSON_QUERY(publication, '$.lastupdatetimestamp'),'\"') AS lastupdatetimestamp,\n",
        "    JSON_QUERY_ARRAY(publication, '$.pid') AS pid,\n",
        "    TRIM(JSON_QUERY(publication, '$.publicationdate'),'\"') AS publicationdate,\n",
        "    TRIM(JSON_QUERY(publication, '$.publisher'),'\"') AS publisher,\n",
        "    JSON_QUERY_ARRAY(publication, '$.source') AS source,\n",
        "    JSON_QUERY_ARRAY(publication, '$.subjects') AS subjects,\n",
        "    TRIM(JSON_QUERY(publication, '$.container.edition'),'\"') AS edition,\n",
        "    TRIM(JSON_QUERY(publication, '$.container.iss'),'\"') AS iss,\n",
        "    TRIM(JSON_QUERY(publication, '$.container.issnLinking'),'\"') AS issnLinking,\n",
        "    TRIM(JSON_QUERY(publication, '$.container.issnOnline'),'\"') AS issnOnline,\n",
        "    TRIM(JSON_QUERY(publication, '$.container.issnPrinted'),'\"') AS issnPrinted,\n",
        "    TRIM(JSON_QUERY(publication, '$.container.name'),'\"') AS name,\n",
        "    TRIM(JSON_QUERY(publication, '$.container.sp'),'\"') AS sp,\n",
        "    TRIM(JSON_QUERY(publication, '$.container.ep'),'\"') AS ep,\n",
        "    TRIM(JSON_QUERY(publication, '$.container.vol'),'\"') AS vol,\n",
        "  FROM `insyspo.projectdb_openaire.publications`\n",
        ")"
      ],
      "metadata": {
        "id": "1m9E7g02VqkS"
      },
      "execution_count": null,
      "outputs": []
    },
    {
      "cell_type": "markdown",
      "source": [
        "# Dataset\n"
      ],
      "metadata": {
        "id": "YLyos2axpkoU"
      }
    },
    {
      "cell_type": "code",
      "source": [
        "%%bigquery\n",
        "\n",
        "DROP TABLE IF EXISTS `insyspo.publicdb_openaire_rm.datasets`;\n",
        "CREATE TABLE `insyspo.publicdb_openaire_rm.datasets` AS (\n",
        "  SELECT\n",
        "    TRIM(JSON_QUERY(data, '$.id'),'\"') AS id,\n",
        "    TRIM(JSON_QUERY(data, '$.type'),'\"') AS type,\n",
        "    JSON_QUERY_ARRAY(data, '$.originalId') AS originalId,\n",
        "    TRIM(JSON_QUERY(data, '$.maintitle'),'\"') AS maintitle,\n",
        "    TRIM(JSON_QUERY(data, '$.subtitle'),'\"') AS subtitle,\n",
        "    JSON_QUERY_ARRAY(data, '$.author') AS authors,\n",
        "    JSON_QUERY_ARRAY(data, '$.contributor') AS contributor,\n",
        "    JSON_QUERY_ARRAY(data, '$.country') AS country,\n",
        "    JSON_QUERY_ARRAY(data, '$.coverage') AS coverage,\n",
        "    TRIM(JSON_QUERY(data, '$.dateofcollection'),'\"') AS dateofcollection,\n",
        "    JSON_QUERY_ARRAY(data, '$.description') AS description,\n",
        "    TRIM(JSON_QUERY(data, '$.embargoenddate'),'\"') AS embargoenddate,\n",
        "    JSON_QUERY(data, '$.indicators') AS indicators,\n",
        "    JSON_QUERY_ARRAY(data, '$.instance') AS instance,\n",
        "    TRIM(JSON_QUERY(data, '$.language.label'),'\"') AS language,\n",
        "    TRIM(JSON_QUERY(data, '$.language.code'),'\"') AS lang,\n",
        "    TRIM(JSON_QUERY(data, '$.lastupdatetimestamp'),'\"') AS lastupdatetimestamp,\n",
        "    JSON_QUERY_ARRAY(data, '$.pid') AS pid,\n",
        "    TRIM(JSON_QUERY(data, '$.publicationdate'),'\"') AS publicationdate,\n",
        "    TRIM(JSON_QUERY(data, '$.publisher'),'\"') AS publisher,\n",
        "    JSON_QUERY_ARRAY(data, '$.source') AS source,\n",
        "    JSON_QUERY_ARRAY(data, '$.subjects') AS subjects,\n",
        "    TRIM(JSON_QUERY(data, '$.size'),'\"') AS size,\n",
        "    TRIM(JSON_QUERY(data, '$.version'),'\"') AS version,\n",
        "    JSON_QUERY(data, '$.geolocation') AS geolocation,\n",
        "  FROM `insyspo.projectdb_openaire.dataset`\n",
        ")"
      ],
      "metadata": {
        "id": "Y5zvbTa9pomh",
        "colab": {
          "base_uri": "https://localhost:8080/"
        },
        "outputId": "50a60af4-e6a6-4a66-f245-0408b7f50221"
      },
      "execution_count": null,
      "outputs": [
        {
          "output_type": "stream",
          "name": "stderr",
          "text": [
            "\n",
            "ERROR:\n",
            " 404 POST https://bigquery.googleapis.com/bigquery/v2/projects//jobs?prettyPrint=false: Request couldn't be served.\n",
            "\n",
            "Location: None\n",
            "Job ID: e8ddeabf-27c3-4f1a-9eb8-1454518a817e\n",
            "\n"
          ]
        }
      ]
    },
    {
      "cell_type": "markdown",
      "source": [
        "# Software"
      ],
      "metadata": {
        "id": "o0PDfhUOtkA-"
      }
    },
    {
      "cell_type": "code",
      "source": [
        "%%bigquery\n",
        "\n",
        "DROP TABLE IF EXISTS `insyspo.publicdb_openaire_rm.software`;\n",
        "CREATE TABLE `insyspo.publicdb_openaire_rm.software` AS (\n",
        "  SELECT\n",
        "    TRIM(JSON_QUERY(software, '$.id'),'\"') AS id,\n",
        "    TRIM(JSON_QUERY(software, '$.type'),'\"') AS type,\n",
        "    JSON_QUERY_ARRAY(software, '$.originalId') AS originalId,\n",
        "    TRIM(JSON_QUERY(software, '$.maintitle'),'\"') AS maintitle,\n",
        "    TRIM(JSON_QUERY(software, '$.subtitle'),'\"') AS subtitle,\n",
        "    JSON_QUERY_ARRAY(software, '$.author') AS authors,\n",
        "    JSON_QUERY_ARRAY(software, '$.contributor') AS contributor,\n",
        "    JSON_QUERY_ARRAY(dasoftwareta, '$.country') AS country,\n",
        "    JSON_QUERY_ARRAY(software, '$.coverage') AS coverage,\n",
        "    TRIM(JSON_QUERY(software, '$.dateofcollection'),'\"') AS dateofcollection,\n",
        "    JSON_QUERY_ARRAY(software, '$.description') AS description,\n",
        "    TRIM(JSON_QUERY(software, '$.embargoenddate'),'\"') AS embargoenddate,\n",
        "    JSON_QUERY(software, '$.indicators') AS indicators,\n",
        "    JSON_QUERY_ARRAY(software, '$.instance') AS instance,\n",
        "    TRIM(JSON_QUERY(software, '$.language.label'),'\"') AS language,\n",
        "    TRIM(JSON_QUERY(software, '$.language.code'),'\"') AS lang,\n",
        "    TRIM(JSON_QUERY(software, '$.lastupdatetimestamp'),'\"') AS lastupdatetimestamp,\n",
        "    JSON_QUERY_ARRAY(software, '$.pid') AS pid,\n",
        "    TRIM(JSON_QUERY(software, '$.publicationdate'),'\"') AS publicationdate,\n",
        "    TRIM(JSON_QUERY(software, '$.publisher'),'\"') AS publisher,\n",
        "    JSON_QUERY_ARRAY(software, '$.source') AS source,\n",
        "    JSON_QUERY_ARRAY(software, '$.subjects') AS subjects,\n",
        "    JSON_QUERY_ARRAY(software, '$.documentationUrl') AS documentationUrl,\n",
        "    TRIM(JSON_QUERY(software, '$.codeRepositoryUrl'),'\"') AS codeRepositoryUrl,\n",
        "    TRIM(JSON_QUERY(software, '$.programmingLanguage'),'\"') AS programmingLanguage,\n",
        "  FROM `insyspo.projectdb_openaire.software`\n",
        ")"
      ],
      "metadata": {
        "id": "q4_yeRlstljZ"
      },
      "execution_count": null,
      "outputs": []
    },
    {
      "cell_type": "markdown",
      "source": [
        "# Other research product"
      ],
      "metadata": {
        "id": "Pj6cvm4Cten9"
      }
    },
    {
      "cell_type": "code",
      "source": [
        "%%bigquery\n",
        "\n",
        "DROP TABLE IF EXISTS `insyspo.publicdb_openaire_rm.otherresearchproducts`;\n",
        "CREATE TABLE `insyspo.publicdb_openaire_rm.otherresearchproducts` AS (\n",
        "  SELECT\n",
        "    TRIM(JSON_QUERY(otherresearchproduct, '$.id'),'\"') AS id,\n",
        "    TRIM(JSON_QUERY(otherresearchproduct, '$.type'),'\"') AS type,\n",
        "    JSON_QUERY_ARRAY(otherresearchproduct, '$.originalId') AS originalId,\n",
        "    TRIM(JSON_QUERY(otherresearchproduct, '$.maintitle'),'\"') AS maintitle,\n",
        "    TRIM(JSON_QUERY(otherresearchproduct, '$.subtitle'),'\"') AS subtitle,\n",
        "    JSON_QUERY_ARRAY(otherresearchproduct, '$.author') AS authors,\n",
        "    JSON_QUERY_ARRAY(otherresearchproduct, '$.contributor') AS contributor,\n",
        "    JSON_QUERY_ARRAY(otherresearchproduct, '$.country') AS country,\n",
        "    JSON_QUERY_ARRAY(otherresearchproduct, '$.coverage') AS coverage,\n",
        "    TRIM(JSON_QUERY(otherresearchproduct, '$.dateofcollection'),'\"') AS dateofcollection,\n",
        "    JSON_QUERY_ARRAY(otherresearchproduct, '$.description') AS description,\n",
        "    TRIM(JSON_QUERY(otherresearchproduct, '$.embargoenddate'),'\"') AS embargoenddate,\n",
        "    JSON_QUERY(otherresearchproduct, '$.indicators') AS indicators,\n",
        "    JSON_QUERY_ARRAY(otherresearchproduct, '$.instance') AS instance,\n",
        "    TRIM(JSON_QUERY(otherresearchproduct, '$.language.label'),'\"') AS language,\n",
        "    TRIM(JSON_QUERY(otherresearchproduct, '$.language.code'),'\"') AS lang,\n",
        "    TRIM(JSON_QUERY(otherresearchproduct, '$.lastupdatetimestamp'),'\"') AS lastupdatetimestamp,\n",
        "    JSON_QUERY_ARRAY(otherresearchproduct, '$.pid') AS pid,\n",
        "    TRIM(JSON_QUERY(otherresearchproduct, '$.publicationdate'),'\"') AS publicationdate,\n",
        "    TRIM(JSON_QUERY(otherresearchproduct, '$.publisher'),'\"') AS publisher,\n",
        "    JSON_QUERY_ARRAY(otherresearchproduct, '$.source') AS source,\n",
        "    JSON_QUERY_ARRAY(otherresearchproduct, '$.subjects') AS subjects,\n",
        "    JSON_QUERY_ARRAY(otherresearchproduct, '$.contactperson') AS contactperson,\n",
        "    JSON_QUERY_ARRAY(otherresearchproduct, '$.contactgroup') AS contactgroup,\n",
        "    TRIM(JSON_QUERY(otherresearchproduct, '$.tool'),'\"') AS tool,\n",
        "  FROM `insyspo.projectdb_openaire.otherresearchproducts`\n",
        ")"
      ],
      "metadata": {
        "id": "LdCiduoStgpC"
      },
      "execution_count": null,
      "outputs": []
    },
    {
      "cell_type": "markdown",
      "source": [
        "# Data sources"
      ],
      "metadata": {
        "id": "ra4tqsOqvzkF"
      }
    },
    {
      "cell_type": "code",
      "source": [
        "%%bigquery\n",
        "\n",
        "DROP TABLE IF EXISTS `insyspo.publicdb_openaire_rm.datasources`;\n",
        "CREATE TABLE `insyspo.publicdb_openaire_rm.datasources` AS (\n",
        "  SELECT\n",
        "    TRIM(JSON_QUERY(datasource, '$.id'),'\"') AS id,\n",
        "    JSON_QUERY_ARRAY(datasource, '$.originalId') AS originalId,\n",
        "    JSON_QUERY_ARRAY(datasource, '$.pid') AS pid,\n",
        "    TRIM(JSON_QUERY(datasource, '$.datasourcetype.value'),'\"') AS datasourcetype,\n",
        "    TRIM(JSON_QUERY(datasource, '$.datasourcetype.scheme'),'\"') AS datasourcetype_scheme,\n",
        "    TRIM(JSON_QUERY(datasource, '$.openairecompatibility'),'\"') AS openairecompatibility,\n",
        "    TRIM(JSON_QUERY(datasource, '$.officialname'),'\"') AS officialname,\n",
        "    TRIM(JSON_QUERY(datasource, '$.englishname'),'\"') AS englishname,\n",
        "    TRIM(JSON_QUERY(datasource, '$.websiteurl'),'\"') AS websiteurl,\n",
        "    TRIM(JSON_QUERY(datasource, '$.logourl'),'\"') AS logourl,\n",
        "    TRIM(JSON_QUERY(datasource, '$.dateofvalidation'),'\"') AS dateofvalidation,\n",
        "    TRIM(JSON_QUERY(datasource, '$.description'),'\"') AS description,\n",
        "    JSON_QUERY_ARRAY(datasource, '$.subjects') AS subjects,\n",
        "    JSON_QUERY_ARRAY(datasource, '$.languages') AS languages,\n",
        "    JSON_QUERY_ARRAY(datasource, '$.contenttypes') AS contenttypes,\n",
        "    TRIM(JSON_QUERY(datasource, '$.releasestartdate'),'\"') AS releasestartdate,\n",
        "    TRIM(JSON_QUERY(datasource, '$.releaseenddate'),'\"') AS releaseenddate,\n",
        "    TRIM(JSON_QUERY(datasource, '$.accessrights'),'\"') AS accessrights,\n",
        "    TRIM(JSON_QUERY(datasource, '$.uploadrights'),'\"') AS uploadrights,\n",
        "    TRIM(JSON_QUERY(datasource, '$.databaseaccessrestriction'),'\"') AS databaseaccessrestriction,\n",
        "    TRIM(JSON_QUERY(datasource, '$.datauploadrestriction'),'\"') AS datauploadrestriction,\n",
        "    TRIM(JSON_QUERY(datasource, '$.versioning'),'\"') AS versioning,\n",
        "    TRIM(JSON_QUERY(datasource, '$.citationguidelineurl'),'\"') AS citationguidelineurl,\n",
        "    TRIM(JSON_QUERY(datasource, '$.pidsystems'),'\"') AS pidsystems,\n",
        "    TRIM(JSON_QUERY(datasource, '$.certificates'),'\"') AS certificates,\n",
        "    JSON_QUERY_ARRAY(datasource, '$.policies') AS policies,\n",
        "    TRIM(JSON_QUERY(datasource, '$.container.edition'),'\"') AS edition,\n",
        "    TRIM(JSON_QUERY(datasource, '$.container.iss'),'\"') AS iss,\n",
        "    TRIM(JSON_QUERY(datasource, '$.container.issnLinking'),'\"') AS issnLinking,\n",
        "    TRIM(JSON_QUERY(datasource, '$.container.issnOnline'),'\"') AS issnOnline,\n",
        "    TRIM(JSON_QUERY(datasource, '$.container.issnPrinted'),'\"') AS issnPrinted,\n",
        "    TRIM(JSON_QUERY(datasource, '$.container.name'),'\"') AS name,\n",
        "    TRIM(JSON_QUERY(datasource, '$.container.sp'),'\"') AS sp,\n",
        "    TRIM(JSON_QUERY(datasource, '$.container.ep'),'\"') AS ep,\n",
        "    TRIM(JSON_QUERY(datasource, '$.container.vol'),'\"') AS vol,\n",
        "    TRIM(JSON_QUERY(datasource, '$.missionstatementurl'),'\"') AS missionstatementurl\n",
        "  FROM `insyspo.projectdb_openaire.datasource`\n",
        ")"
      ],
      "metadata": {
        "id": "RGmsJfPuv19B"
      },
      "execution_count": null,
      "outputs": []
    },
    {
      "cell_type": "markdown",
      "source": [
        "# Organizations"
      ],
      "metadata": {
        "id": "8489IHTIUgHU"
      }
    },
    {
      "cell_type": "code",
      "source": [
        "%%bigquery\n",
        "\n",
        "DROP TABLE IF EXISTS `insyspo.publicdb_openaire_rm.organizations`;\n",
        "CREATE TABLE `insyspo.publicdb_openaire_rm.organizations` AS (\n",
        "  SELECT\n",
        "    TRIM(JSON_QUERY(organization, '$.id'),'\"') AS id,\n",
        "    TRIM(JSON_QUERY(organization, '$.legalshortname'),'\"') AS legalshortname,\n",
        "    TRIM(JSON_QUERY(organization, '$.legalname'),'\"') AS englishlegalnamename,\n",
        "    JSON_QUERY_ARRAY(organization, '$.alternativenames') AS alternativenames,\n",
        "    TRIM(JSON_QUERY(organization, '$.websiteurl'),'\"') AS websiteurl,\n",
        "    TRIM(JSON_QUERY(organization, '$.country.label'),'\"') AS country,\n",
        "    TRIM(JSON_QUERY(organization, '$.country.code'),'\"') AS country_code,\n",
        "    JSON_QUERY_ARRAY(organization, '$.pid') AS pid,\n",
        "  FROM `insyspo.projectdb_openaire.organizations`\n",
        ")"
      ],
      "metadata": {
        "id": "WyqUbjkeUhCm"
      },
      "execution_count": null,
      "outputs": []
    },
    {
      "cell_type": "markdown",
      "source": [
        "# Projects"
      ],
      "metadata": {
        "id": "B3CrLVXdXmYd"
      }
    },
    {
      "cell_type": "code",
      "source": [
        "%%bigquery\n",
        "\n",
        "DROP TABLE IF EXISTS `insyspo.publicdb_openaire_rm.projects`;\n",
        "CREATE TABLE `insyspo.publicdb_openaire_rm.projects` AS (\n",
        "  SELECT\n",
        "    TRIM(JSON_QUERY(project, '$.id'),'\"') AS id,\n",
        "    TRIM(JSON_QUERY(project, '$.code'),'\"') AS code,\n",
        "    TRIM(JSON_QUERY(project, '$.acronym'),'\"') AS acronym,\n",
        "    TRIM(JSON_QUERY(project, '$.title'),'\"') AS title,\n",
        "    TRIM(JSON_QUERY(project, '$.callidentifier'),'\"') AS callidentifier,\n",
        "    JSON_QUERY_ARRAY(project, '$.funding') AS funding,\n",
        "    TRIM(JSON_QUERY(project, '$.granted.currency'),'\"') AS granted_currency,\n",
        "    CAST(JSON_QUERY(project, '$.granted.fundedamount') AS FLOAT64) AS fundedamount,\n",
        "    CAST(JSON_QUERY(project, '$.granted.totalcost') AS FLOAT64) AS totalcost,\n",
        "    JSON_QUERY_ARRAY(project, '$.h2020programme') AS h2020programme,\n",
        "    JSON_QUERY_ARRAY(project, '$.keywords') AS keywords,\n",
        "    CAST(TRIM(JSON_QUERY(project, '$.openaccessmandatefordataset'),'\"') AS BOOL) AS openaccessmandatefordataset,\n",
        "    CAST(TRIM(JSON_QUERY(project, '$.openaccessmandateforpublications'),'\"') AS BOOL) AS openaccessmandateforpublications,\n",
        "    TRIM(JSON_QUERY(project, '$.startdate'),'\"') AS startdate,\n",
        "    TRIM(JSON_QUERY(project, '$.enddate'),'\"') AS enddate,\n",
        "    JSON_QUERY_ARRAY(project, '$.subject') AS subjects,\n",
        "    TRIM(JSON_QUERY(project, '$.summary'),'\"') AS summary,\n",
        "    TRIM(JSON_QUERY(project, '$.websiteurl'),'\"') AS websiteurl,\n",
        "  FROM `insyspo.projectdb_openaire.projects`\n",
        ")"
      ],
      "metadata": {
        "id": "r7zW450PXnOM"
      },
      "execution_count": null,
      "outputs": []
    },
    {
      "cell_type": "markdown",
      "source": [
        "# Communities"
      ],
      "metadata": {
        "id": "zGr5Ok_UaQQA"
      }
    },
    {
      "cell_type": "code",
      "source": [
        "%%bigquery\n",
        "\n",
        "DROP TABLE IF EXISTS `insyspo.publicdb_openaire_rm.communities_infrastructures`;\n",
        "CREATE TABLE `insyspo.publicdb_openaire_rm.communities_infrastructures` AS (\n",
        "  SELECT\n",
        "    TRIM(JSON_QUERY(communities_infrastructures, '$.id'),'\"') AS id,\n",
        "    TRIM(JSON_QUERY(communities_infrastructures, '$.acronym'),'\"') AS acronym,\n",
        "    TRIM(JSON_QUERY(communities_infrastructures, '$.description'),'\"') AS description,\n",
        "    TRIM(JSON_QUERY(communities_infrastructures, '$.name'),'\"') AS name,\n",
        "    JSON_QUERY_ARRAY(communities_infrastructures, '$.subject') AS subjects,\n",
        "    TRIM(JSON_QUERY(communities_infrastructures, '$.type'),'\"') AS type,\n",
        "    TRIM(JSON_QUERY(communities_infrastructures, '$.zenodo_community'),'\"') AS zenodo_community,\n",
        "  FROM `insyspo.projectdb_openaire.communities_infrastructures`\n",
        ")"
      ],
      "metadata": {
        "id": "MccpQoJxaTlN"
      },
      "execution_count": null,
      "outputs": []
    },
    {
      "cell_type": "markdown",
      "source": [
        "# Relations"
      ],
      "metadata": {
        "id": "8R3yL4VlbYLc"
      }
    },
    {
      "cell_type": "code",
      "source": [
        "%%bigquery\n",
        "\n",
        "DROP TABLE IF EXISTS `insyspo.publicdb_openaire_rm.relations`;\n",
        "CREATE TABLE `insyspo.publicdb_openaire_rm.relations` AS (\n",
        "  SELECT\n",
        "    TRIM(JSON_QUERY(relation, '$.source'),'\"') AS source,\n",
        "    TRIM(JSON_QUERY(relation, '$.sourceType'),'\"') AS sourceType,\n",
        "    TRIM(JSON_QUERY(relation, '$.target'),'\"') AS target,\n",
        "    TRIM(JSON_QUERY(relation, '$.reltype.name'),'\"') AS relationname,\n",
        "    TRIM(JSON_QUERY(relation, '$.reltype.type'),'\"') AS relationtype,\n",
        "    TRIM(JSON_QUERY(relation, '$.targetType'),'\"') AS relationtype,\n",
        "    TRIM(JSON_QUERY(relation, '$.provenance.provenance'),'\"') AS provenance,\n",
        "    CAST(TRIM(JSON_QUERY(relation, '$.provenance.trust'),'\"') AS FLOAT64) AS provenancetrust,\n",
        "    CAST(TRIM(JSON_QUERY(relation, '$.validated'),'\"') AS BOOL) AS validated,\n",
        "    # TRIM(JSON_QUERY(relation, '$.validationDate'),'\"') AS validationDate\n",
        "  FROM `insyspo.projectdb_openaire.relations_`\n",
        ")"
      ],
      "metadata": {
        "id": "sTP02IcRbZHs"
      },
      "execution_count": null,
      "outputs": []
    },
    {
      "cell_type": "markdown",
      "source": [
        "# New flattened tables"
      ],
      "metadata": {
        "id": "c_EOsb_tSqal"
      }
    },
    {
      "cell_type": "markdown",
      "source": [
        "## Dataset"
      ],
      "metadata": {
        "id": "6J3WZLGQStx4"
      }
    },
    {
      "cell_type": "code",
      "source": [
        "%%bigquery  --project=insyspo\n",
        "\n",
        "DROP TABLE IF EXISTS `insyspo.publicdb_openaire_model.datasets`;\n",
        "CREATE TABLE `insyspo.publicdb_openaire_model.datasets` AS (\n",
        "  SELECT\n",
        "    JSON_EXTRACT_SCALAR(data, '$.id') AS id,\n",
        "    JSON_EXTRACT_SCALAR(data, '$.type') AS type,\n",
        "    JSON_EXTRACT_SCALAR(data, '$.maintitle') AS maintitle,\n",
        "    JSON_EXTRACT_SCALAR(data, '$.subtitle') AS subtitle,\n",
        "    JSON_EXTRACT_SCALAR(data, '$.dateofcollection') AS dateofcollection,\n",
        "    JSON_EXTRACT_SCALAR(data, '$.embargoenddate') AS embargoenddate,\n",
        "    JSON_EXTRACT_SCALAR(data, '$.indicators') AS indicators,\n",
        "    #JSON_QUERY_ARRAY(data, '$.instance') AS instance,\n",
        "    JSON_EXTRACT_SCALAR(data, '$.language.label') AS language,\n",
        "    JSON_EXTRACT_SCALAR(data, '$.language.code') AS lang,\n",
        "    JSON_EXTRACT_SCALAR(data, '$.lastupdatetimestamp') AS lastupdatetimestamp,\n",
        "    #JSON_QUERY_ARRAY(data, '$.pid') AS pid,\n",
        "    JSON_EXTRACT_SCALAR(data, '$.publicationdate') AS publicationdate,\n",
        "    JSON_EXTRACT_SCALAR(data, '$.publisher') AS publisher,\n",
        "    #JSON_QUERY_ARRAY(data, '$.source') AS source,\n",
        "    #JSON_QUERY_ARRAY(data, '$.subjects') AS subjects,\n",
        "    JSON_EXTRACT_SCALAR(data, '$.size') AS size,\n",
        "    JSON_EXTRACT_SCALAR(data, '$.version') AS version,\n",
        "    #JSON_QUERY(data, '$.geolocation') AS geolocation,\n",
        "  FROM `insyspo.projectdb_openaire.dataset`\n",
        ")"
      ],
      "metadata": {
        "id": "LbXZ8Z6kSqHe",
        "colab": {
          "base_uri": "https://localhost:8080/",
          "height": 85,
          "referenced_widgets": [
            "ed22567cac4a49e892db04598190f2b4",
            "b6f055e3c61544649119ddb5219fd838",
            "3fca6d0f9142484ab367d7ca179340ec",
            "f22e349ac5f143588836c3d779592159",
            "c79960b08af6449fa1850ed7a633de70",
            "95f699fb4bee4c37926c275baf9d8523",
            "97b94af0e5024da4a311f17c7d1a134f",
            "a525a4daee00492ab8e3882ff9d78278",
            "27a21a9ad8f64922b4c1cdbfabd38a6c",
            "b35e644504574f32848065ecb6105176",
            "28f2b09872b34488a9d4122316279403"
          ]
        },
        "outputId": "6499bcec-5343-40fb-b041-b07b7026be04"
      },
      "execution_count": null,
      "outputs": [
        {
          "output_type": "display_data",
          "data": {
            "text/plain": [
              "Query is running:   0%|          |"
            ],
            "application/vnd.jupyter.widget-view+json": {
              "version_major": 2,
              "version_minor": 0,
              "model_id": "ed22567cac4a49e892db04598190f2b4"
            }
          },
          "metadata": {}
        },
        {
          "output_type": "execute_result",
          "data": {
            "text/plain": [
              "Empty DataFrame\n",
              "Columns: []\n",
              "Index: []"
            ],
            "text/html": [
              "\n",
              "  <div id=\"df-c9aa12e2-df24-43d0-a36d-a8dd26835a87\" class=\"colab-df-container\">\n",
              "    <div>\n",
              "<style scoped>\n",
              "    .dataframe tbody tr th:only-of-type {\n",
              "        vertical-align: middle;\n",
              "    }\n",
              "\n",
              "    .dataframe tbody tr th {\n",
              "        vertical-align: top;\n",
              "    }\n",
              "\n",
              "    .dataframe thead th {\n",
              "        text-align: right;\n",
              "    }\n",
              "</style>\n",
              "<table border=\"1\" class=\"dataframe\">\n",
              "  <thead>\n",
              "    <tr style=\"text-align: right;\">\n",
              "      <th></th>\n",
              "    </tr>\n",
              "  </thead>\n",
              "  <tbody>\n",
              "  </tbody>\n",
              "</table>\n",
              "</div>\n",
              "    <div class=\"colab-df-buttons\">\n",
              "\n",
              "  <div class=\"colab-df-container\">\n",
              "    <button class=\"colab-df-convert\" onclick=\"convertToInteractive('df-c9aa12e2-df24-43d0-a36d-a8dd26835a87')\"\n",
              "            title=\"Convert this dataframe to an interactive table.\"\n",
              "            style=\"display:none;\">\n",
              "\n",
              "  <svg xmlns=\"http://www.w3.org/2000/svg\" height=\"24px\" viewBox=\"0 -960 960 960\">\n",
              "    <path d=\"M120-120v-720h720v720H120Zm60-500h600v-160H180v160Zm220 220h160v-160H400v160Zm0 220h160v-160H400v160ZM180-400h160v-160H180v160Zm440 0h160v-160H620v160ZM180-180h160v-160H180v160Zm440 0h160v-160H620v160Z\"/>\n",
              "  </svg>\n",
              "    </button>\n",
              "\n",
              "  <style>\n",
              "    .colab-df-container {\n",
              "      display:flex;\n",
              "      gap: 12px;\n",
              "    }\n",
              "\n",
              "    .colab-df-convert {\n",
              "      background-color: #E8F0FE;\n",
              "      border: none;\n",
              "      border-radius: 50%;\n",
              "      cursor: pointer;\n",
              "      display: none;\n",
              "      fill: #1967D2;\n",
              "      height: 32px;\n",
              "      padding: 0 0 0 0;\n",
              "      width: 32px;\n",
              "    }\n",
              "\n",
              "    .colab-df-convert:hover {\n",
              "      background-color: #E2EBFA;\n",
              "      box-shadow: 0px 1px 2px rgba(60, 64, 67, 0.3), 0px 1px 3px 1px rgba(60, 64, 67, 0.15);\n",
              "      fill: #174EA6;\n",
              "    }\n",
              "\n",
              "    .colab-df-buttons div {\n",
              "      margin-bottom: 4px;\n",
              "    }\n",
              "\n",
              "    [theme=dark] .colab-df-convert {\n",
              "      background-color: #3B4455;\n",
              "      fill: #D2E3FC;\n",
              "    }\n",
              "\n",
              "    [theme=dark] .colab-df-convert:hover {\n",
              "      background-color: #434B5C;\n",
              "      box-shadow: 0px 1px 3px 1px rgba(0, 0, 0, 0.15);\n",
              "      filter: drop-shadow(0px 1px 2px rgba(0, 0, 0, 0.3));\n",
              "      fill: #FFFFFF;\n",
              "    }\n",
              "  </style>\n",
              "\n",
              "    <script>\n",
              "      const buttonEl =\n",
              "        document.querySelector('#df-c9aa12e2-df24-43d0-a36d-a8dd26835a87 button.colab-df-convert');\n",
              "      buttonEl.style.display =\n",
              "        google.colab.kernel.accessAllowed ? 'block' : 'none';\n",
              "\n",
              "      async function convertToInteractive(key) {\n",
              "        const element = document.querySelector('#df-c9aa12e2-df24-43d0-a36d-a8dd26835a87');\n",
              "        const dataTable =\n",
              "          await google.colab.kernel.invokeFunction('convertToInteractive',\n",
              "                                                    [key], {});\n",
              "        if (!dataTable) return;\n",
              "\n",
              "        const docLinkHtml = 'Like what you see? Visit the ' +\n",
              "          '<a target=\"_blank\" href=https://colab.research.google.com/notebooks/data_table.ipynb>data table notebook</a>'\n",
              "          + ' to learn more about interactive tables.';\n",
              "        element.innerHTML = '';\n",
              "        dataTable['output_type'] = 'display_data';\n",
              "        await google.colab.output.renderOutput(dataTable, element);\n",
              "        const docLink = document.createElement('div');\n",
              "        docLink.innerHTML = docLinkHtml;\n",
              "        element.appendChild(docLink);\n",
              "      }\n",
              "    </script>\n",
              "  </div>\n",
              "\n",
              "\n",
              "    </div>\n",
              "  </div>\n"
            ]
          },
          "metadata": {},
          "execution_count": 6
        }
      ]
    },
    {
      "cell_type": "markdown",
      "source": [
        "### Original Ids"
      ],
      "metadata": {
        "id": "iYHN2Dq8Syqy"
      }
    },
    {
      "cell_type": "code",
      "source": [
        "%%bigquery  --project=insyspo\n",
        "\n",
        "DROP TABLE IF EXISTS `insyspo.publicdb_openaire_model.datasets_original_ids`;\n",
        "CREATE TABLE `insyspo.publicdb_openaire_model.datasets_original_ids` AS (\n",
        "  SELECT\n",
        "    TRIM(JSON_QUERY(data, '$.id'),'\"') AS id,\n",
        "    TRIM(originalids,'\"') AS originalid,\n",
        "  FROM `insyspo.projectdb_openaire.dataset`,\n",
        "  UNNEST (JSON_QUERY_ARRAY(data, '$.originalId')) originalids\n",
        ")"
      ],
      "metadata": {
        "colab": {
          "base_uri": "https://localhost:8080/"
        },
        "id": "BLeaFQOAXutq",
        "outputId": "44315a5c-e93f-4682-b6b0-3b0b5c5c535c"
      },
      "execution_count": null,
      "outputs": [
        {
          "output_type": "stream",
          "name": "stderr",
          "text": [
            "\n",
            "ERROR:\n",
            " 404 POST https://bigquery.googleapis.com/bigquery/v2/projects//jobs?prettyPrint=false: Request couldn't be served.\n",
            "\n",
            "Location: None\n",
            "Job ID: 6f435fa6-5517-45fe-88da-9c38df6b333b\n",
            "\n"
          ]
        }
      ]
    },
    {
      "cell_type": "markdown",
      "source": [
        "### Authors"
      ],
      "metadata": {
        "id": "TKa8hBiaXtjd"
      }
    },
    {
      "cell_type": "code",
      "source": [
        "%%bigquery  --project=insyspo\n",
        "\n",
        "DROP TABLE IF EXISTS `insyspo.publicdb_openaire_model.datasets_authors`;\n",
        "CREATE TABLE `insyspo.publicdb_openaire_model.datasets_authors` AS (\n",
        "  SELECT\n",
        "    TRIM(JSON_QUERY(data, '$.id'),'\"') AS id,\n",
        "    TRIM(JSON_QUERY(authors,'$.fullname'),'\"') AS fullname,\n",
        "    TRIM(JSON_QUERY(authors,'$.name'),'\"') AS name,\n",
        "    TRIM(JSON_QUERY(authors,'$.surname'),'\"') AS surname,\n",
        "    CAST(JSON_QUERY(authors,'$.rank') AS INT64) AS rank,\n",
        "    TRIM(JSON_QUERY(authors,'$.pid.id.value'),'\"') AS pid,\n",
        "  FROM `insyspo.projectdb_openaire.dataset`,\n",
        "  UNNEST (JSON_QUERY_ARRAY(data, '$.author')) authors\n",
        ")"
      ],
      "metadata": {
        "id": "qSSCKaAyTJmD"
      },
      "execution_count": null,
      "outputs": []
    },
    {
      "cell_type": "markdown",
      "source": [
        "### Contributor"
      ],
      "metadata": {
        "id": "gEhgX8YTau1W"
      }
    },
    {
      "cell_type": "code",
      "source": [
        "%%bigquery  --project=insyspo\n",
        "\n",
        "DROP TABLE IF EXISTS `insyspo.publicdb_openaire_model.datasets_contributors`;\n",
        "CREATE TABLE `insyspo.publicdb_openaire_model.datasets_contributors` AS (\n",
        "  SELECT\n",
        "    TRIM(JSON_QUERY(data, '$.id'),'\"') AS id,\n",
        "    TRIM(contributors,'\"') AS contributor,\n",
        "  FROM `insyspo.projectdb_openaire.dataset`,\n",
        "  UNNEST (JSON_QUERY_ARRAY(data, '$.contributor')) contributors\n",
        ")"
      ],
      "metadata": {
        "id": "kI9sduNsaySQ"
      },
      "execution_count": null,
      "outputs": []
    },
    {
      "cell_type": "markdown",
      "source": [
        "### Country"
      ],
      "metadata": {
        "id": "GkdqMMdGb5Te"
      }
    },
    {
      "cell_type": "code",
      "source": [
        "%%bigquery  --project=insyspo\n",
        "\n",
        "DROP TABLE IF EXISTS `insyspo.publicdb_openaire_model.datasets_countries`;\n",
        "CREATE TABLE `insyspo.publicdb_openaire_model.datasets_countries` AS (\n",
        "  SELECT\n",
        "    TRIM(JSON_QUERY(data, '$.id'),'\"') AS id,\n",
        "    TRIM(JSON_QUERY(countries,'$.code'),'\"') AS code,\n",
        "    TRIM(JSON_QUERY(countries,'$.label'),'\"') AS label,\n",
        "  FROM `insyspo.projectdb_openaire.dataset`,\n",
        "  UNNEST (JSON_QUERY_ARRAY(data, '$.country')) countries\n",
        ")"
      ],
      "metadata": {
        "id": "W9zLVkLHb62p"
      },
      "execution_count": null,
      "outputs": []
    },
    {
      "cell_type": "markdown",
      "source": [
        "### Descriptions"
      ],
      "metadata": {
        "id": "prHXmMbSpfTp"
      }
    },
    {
      "cell_type": "code",
      "source": [
        "%%bigquery  --project=insyspo\n",
        "\n",
        "DROP TABLE IF EXISTS `insyspo.publicdb_openaire_model.datasets_descriptions`;\n",
        "CREATE TABLE `insyspo.publicdb_openaire_model.datasets_descriptions` AS (\n",
        "  SELECT\n",
        "    JSON_EXTRACT_SCALAR(data, '$.id') AS id,\n",
        "    TRIM(descriptions,'\"') AS description,\n",
        "  FROM `insyspo.projectdb_openaire.dataset`,\n",
        "  UNNEST (JSON_EXTRACT_ARRAY(data, '$.description')) descriptions\n",
        ")"
      ],
      "metadata": {
        "colab": {
          "base_uri": "https://localhost:8080/",
          "height": 85,
          "referenced_widgets": [
            "d93b7ceaca22491486c1eddd64c834b5",
            "408df5c8b9ee49c0b0159f731f370505",
            "ff7a9264f1534d9587b9e89ecf163d9b",
            "6b43e0c0c95b44189eadfafd22e83424",
            "1c5233b1804e4c8ca002116343730cc6",
            "9a7d811b70ed4336bd97a75a0a03b10d",
            "4331be00ba894c28a956ec4284fd8381",
            "ef80ef2b19404b9e97e423fe760fa32a",
            "0d78e3ba39a34caeb8c6af98baf8e9b4",
            "66038724027e4023b8b30cb0966c31f5",
            "591e5249e90d4e99b76cf4eb945afbcb"
          ]
        },
        "id": "Z1FlGAzcph_v",
        "outputId": "0ca43558-04d7-4f41-bcf9-dacc55646e4a"
      },
      "execution_count": null,
      "outputs": [
        {
          "output_type": "display_data",
          "data": {
            "text/plain": [
              "Query is running:   0%|          |"
            ],
            "application/vnd.jupyter.widget-view+json": {
              "version_major": 2,
              "version_minor": 0,
              "model_id": "d93b7ceaca22491486c1eddd64c834b5"
            }
          },
          "metadata": {}
        },
        {
          "output_type": "execute_result",
          "data": {
            "text/plain": [
              "Empty DataFrame\n",
              "Columns: []\n",
              "Index: []"
            ],
            "text/html": [
              "\n",
              "  <div id=\"df-b9c90840-796b-49e5-9161-09359fc16790\" class=\"colab-df-container\">\n",
              "    <div>\n",
              "<style scoped>\n",
              "    .dataframe tbody tr th:only-of-type {\n",
              "        vertical-align: middle;\n",
              "    }\n",
              "\n",
              "    .dataframe tbody tr th {\n",
              "        vertical-align: top;\n",
              "    }\n",
              "\n",
              "    .dataframe thead th {\n",
              "        text-align: right;\n",
              "    }\n",
              "</style>\n",
              "<table border=\"1\" class=\"dataframe\">\n",
              "  <thead>\n",
              "    <tr style=\"text-align: right;\">\n",
              "      <th></th>\n",
              "    </tr>\n",
              "  </thead>\n",
              "  <tbody>\n",
              "  </tbody>\n",
              "</table>\n",
              "</div>\n",
              "    <div class=\"colab-df-buttons\">\n",
              "\n",
              "  <div class=\"colab-df-container\">\n",
              "    <button class=\"colab-df-convert\" onclick=\"convertToInteractive('df-b9c90840-796b-49e5-9161-09359fc16790')\"\n",
              "            title=\"Convert this dataframe to an interactive table.\"\n",
              "            style=\"display:none;\">\n",
              "\n",
              "  <svg xmlns=\"http://www.w3.org/2000/svg\" height=\"24px\" viewBox=\"0 -960 960 960\">\n",
              "    <path d=\"M120-120v-720h720v720H120Zm60-500h600v-160H180v160Zm220 220h160v-160H400v160Zm0 220h160v-160H400v160ZM180-400h160v-160H180v160Zm440 0h160v-160H620v160ZM180-180h160v-160H180v160Zm440 0h160v-160H620v160Z\"/>\n",
              "  </svg>\n",
              "    </button>\n",
              "\n",
              "  <style>\n",
              "    .colab-df-container {\n",
              "      display:flex;\n",
              "      gap: 12px;\n",
              "    }\n",
              "\n",
              "    .colab-df-convert {\n",
              "      background-color: #E8F0FE;\n",
              "      border: none;\n",
              "      border-radius: 50%;\n",
              "      cursor: pointer;\n",
              "      display: none;\n",
              "      fill: #1967D2;\n",
              "      height: 32px;\n",
              "      padding: 0 0 0 0;\n",
              "      width: 32px;\n",
              "    }\n",
              "\n",
              "    .colab-df-convert:hover {\n",
              "      background-color: #E2EBFA;\n",
              "      box-shadow: 0px 1px 2px rgba(60, 64, 67, 0.3), 0px 1px 3px 1px rgba(60, 64, 67, 0.15);\n",
              "      fill: #174EA6;\n",
              "    }\n",
              "\n",
              "    .colab-df-buttons div {\n",
              "      margin-bottom: 4px;\n",
              "    }\n",
              "\n",
              "    [theme=dark] .colab-df-convert {\n",
              "      background-color: #3B4455;\n",
              "      fill: #D2E3FC;\n",
              "    }\n",
              "\n",
              "    [theme=dark] .colab-df-convert:hover {\n",
              "      background-color: #434B5C;\n",
              "      box-shadow: 0px 1px 3px 1px rgba(0, 0, 0, 0.15);\n",
              "      filter: drop-shadow(0px 1px 2px rgba(0, 0, 0, 0.3));\n",
              "      fill: #FFFFFF;\n",
              "    }\n",
              "  </style>\n",
              "\n",
              "    <script>\n",
              "      const buttonEl =\n",
              "        document.querySelector('#df-b9c90840-796b-49e5-9161-09359fc16790 button.colab-df-convert');\n",
              "      buttonEl.style.display =\n",
              "        google.colab.kernel.accessAllowed ? 'block' : 'none';\n",
              "\n",
              "      async function convertToInteractive(key) {\n",
              "        const element = document.querySelector('#df-b9c90840-796b-49e5-9161-09359fc16790');\n",
              "        const dataTable =\n",
              "          await google.colab.kernel.invokeFunction('convertToInteractive',\n",
              "                                                    [key], {});\n",
              "        if (!dataTable) return;\n",
              "\n",
              "        const docLinkHtml = 'Like what you see? Visit the ' +\n",
              "          '<a target=\"_blank\" href=https://colab.research.google.com/notebooks/data_table.ipynb>data table notebook</a>'\n",
              "          + ' to learn more about interactive tables.';\n",
              "        element.innerHTML = '';\n",
              "        dataTable['output_type'] = 'display_data';\n",
              "        await google.colab.output.renderOutput(dataTable, element);\n",
              "        const docLink = document.createElement('div');\n",
              "        docLink.innerHTML = docLinkHtml;\n",
              "        element.appendChild(docLink);\n",
              "      }\n",
              "    </script>\n",
              "  </div>\n",
              "\n",
              "\n",
              "    </div>\n",
              "  </div>\n"
            ]
          },
          "metadata": {},
          "execution_count": 9
        }
      ]
    },
    {
      "cell_type": "markdown",
      "source": [
        "### Instance"
      ],
      "metadata": {
        "id": "G7vx1q2dH3YM"
      }
    },
    {
      "cell_type": "code",
      "source": [
        "%%bigquery  --project=insyspo\n",
        "\n",
        "DROP TABLE IF EXISTS `insyspo.publicdb_openaire_model.datasets_instance`;\n",
        "CREATE TABLE `insyspo.publicdb_openaire_model.datasets_instance` AS (\n",
        "  SELECT\n",
        "    TRIM(JSON_QUERY(data, '$.id'),'\"') AS id,\n",
        "    TRIM(JSON_QUERY(instance,'$.code'),'\"') AS code,\n",
        "    TRIM(JSON_QUERY(instance,'$.label'),'\"') AS label,\n",
        "    TRIM(JSON_QUERY(instance,'$.scheme'),'\"') AS scheme,\n",
        "    TRIM(JSON_QUERY(instance,'$.value'),'\"') AS value,\n",
        "    TRIM(JSON_QUERY(instance,'$.publicationdate'),'\"') AS publicationdate,\n",
        "    TRIM(JSON_QUERY(instance,'$.refereed'),'\"') AS refereed,\n",
        "  FROM `insyspo.projectdb_openaire.dataset`,\n",
        "  UNNEST (JSON_QUERY_ARRAY(data, '$.instance')) instance)"
      ],
      "metadata": {
        "id": "2d6N0dAEPz0F"
      },
      "execution_count": null,
      "outputs": []
    },
    {
      "cell_type": "markdown",
      "source": [
        "### Pid"
      ],
      "metadata": {
        "id": "YUwx57eOZhE_"
      }
    },
    {
      "cell_type": "code",
      "source": [
        "%%bigquery  --project=insyspo\n",
        "\n",
        "DROP TABLE IF EXISTS `insyspo.publicdb_openaire_model.datasets_pid`;\n",
        "CREATE TABLE `insyspo.publicdb_openaire_model.datasets_pid` AS (\n",
        "  SELECT\n",
        "    TRIM(JSON_QUERY(data, '$.id'),'\"') AS id,\n",
        "    TRIM(JSON_QUERY(pid,'$.value'),'\"') AS value,\n",
        "    TRIM(JSON_QUERY(pid,'$.scheme'),'\"') AS scheme,\n",
        "  FROM `insyspo.projectdb_openaire.dataset`,\n",
        "  UNNEST (JSON_QUERY_ARRAY(data, '$.pid')) pid)"
      ],
      "metadata": {
        "id": "nYzLMUS5ZjrC"
      },
      "execution_count": null,
      "outputs": []
    },
    {
      "cell_type": "markdown",
      "source": [
        "### Subject"
      ],
      "metadata": {
        "id": "s5001yQjhfiy"
      }
    },
    {
      "cell_type": "code",
      "source": [
        "%%bigquery  --project=insyspo\n",
        "\n",
        "DROP TABLE IF EXISTS `insyspo.publicdb_openaire_model.datasets_subject`;\n",
        "CREATE TABLE `insyspo.publicdb_openaire_model.datasets_subject` AS (\n",
        "  SELECT\n",
        "    TRIM(JSON_QUERY(data, '$.id'),'\"') AS id,\n",
        "    TRIM(JSON_QUERY(subject,'$.value'),'\"') AS value,\n",
        "    TRIM(JSON_QUERY(subject,'$.scheme'),'\"') AS scheme,\n",
        "  FROM `insyspo.projectdb_openaire.dataset`,\n",
        "  UNNEST (JSON_QUERY_ARRAY(data, '$.subject')) subject)"
      ],
      "metadata": {
        "id": "viTxsUxPhh8-"
      },
      "execution_count": null,
      "outputs": []
    },
    {
      "cell_type": "markdown",
      "source": [
        "## Organizations"
      ],
      "metadata": {
        "id": "XL__YeQlldJE"
      }
    },
    {
      "cell_type": "code",
      "source": [
        "%%bigquery --project=insyspo\n",
        "\n",
        "DROP TABLE IF EXISTS `insyspo.publicdb_openaire_model.organizations`;\n",
        "CREATE TABLE `insyspo.publicdb_openaire_model.organizations` AS (\n",
        "  SELECT\n",
        "    JSON_EXTRACT_SCALAR(organization, '$.id') AS id,\n",
        "    JSON_EXTRACT_SCALAR(organization, '$.legalshortname') AS legalshortname,\n",
        "    JSON_EXTRACT_SCALAR(organization, '$.legalname') AS englishlegalnamename,\n",
        "    JSON_EXTRACT_SCALAR(organization, '$.websiteurl') AS websiteurl,\n",
        "    JSON_EXTRACT_SCALAR(organization, '$.country.label') AS country,\n",
        "    JSON_EXTRACT_SCALAR(organization, '$.country.code') AS country_code,\n",
        "  FROM `insyspo.projectdb_openaire.organizations`\n",
        ")"
      ],
      "metadata": {
        "id": "xwFMS4melfMP",
        "colab": {
          "base_uri": "https://localhost:8080/",
          "height": 85,
          "referenced_widgets": [
            "7cc353d08687431b9bf9e8c404335305",
            "6c069138ecca4d598fbc4248abb34476",
            "ab88a16f70fe4cf196a14bb192c78d45",
            "196124edf8cd4ff9ba910d14000d8c7a",
            "1379c895286d4f1390adbbf342583051",
            "0b4763c169be4ac7a8e86d12f7984003",
            "aad0e413d0c44358b786661ca11faad4",
            "d1285053233d4b9688ffa04238ac1803",
            "94c038b9535b4ea5bbe135ba1d04f5ae",
            "488d42e0eacd49139a0fef6ae9dd7c28",
            "f9f070790d20425fb05d0ce9a01cefcb"
          ]
        },
        "outputId": "e3c3fbfe-1083-4ccd-b134-48c12a4ee7f6"
      },
      "execution_count": null,
      "outputs": [
        {
          "output_type": "display_data",
          "data": {
            "text/plain": [
              "Query is running:   0%|          |"
            ],
            "application/vnd.jupyter.widget-view+json": {
              "version_major": 2,
              "version_minor": 0,
              "model_id": "7cc353d08687431b9bf9e8c404335305"
            }
          },
          "metadata": {}
        },
        {
          "output_type": "execute_result",
          "data": {
            "text/plain": [
              "Empty DataFrame\n",
              "Columns: []\n",
              "Index: []"
            ],
            "text/html": [
              "\n",
              "  <div id=\"df-df20d0be-7346-48cf-9b73-ce7576d6a552\" class=\"colab-df-container\">\n",
              "    <div>\n",
              "<style scoped>\n",
              "    .dataframe tbody tr th:only-of-type {\n",
              "        vertical-align: middle;\n",
              "    }\n",
              "\n",
              "    .dataframe tbody tr th {\n",
              "        vertical-align: top;\n",
              "    }\n",
              "\n",
              "    .dataframe thead th {\n",
              "        text-align: right;\n",
              "    }\n",
              "</style>\n",
              "<table border=\"1\" class=\"dataframe\">\n",
              "  <thead>\n",
              "    <tr style=\"text-align: right;\">\n",
              "      <th></th>\n",
              "    </tr>\n",
              "  </thead>\n",
              "  <tbody>\n",
              "  </tbody>\n",
              "</table>\n",
              "</div>\n",
              "    <div class=\"colab-df-buttons\">\n",
              "\n",
              "  <div class=\"colab-df-container\">\n",
              "    <button class=\"colab-df-convert\" onclick=\"convertToInteractive('df-df20d0be-7346-48cf-9b73-ce7576d6a552')\"\n",
              "            title=\"Convert this dataframe to an interactive table.\"\n",
              "            style=\"display:none;\">\n",
              "\n",
              "  <svg xmlns=\"http://www.w3.org/2000/svg\" height=\"24px\" viewBox=\"0 -960 960 960\">\n",
              "    <path d=\"M120-120v-720h720v720H120Zm60-500h600v-160H180v160Zm220 220h160v-160H400v160Zm0 220h160v-160H400v160ZM180-400h160v-160H180v160Zm440 0h160v-160H620v160ZM180-180h160v-160H180v160Zm440 0h160v-160H620v160Z\"/>\n",
              "  </svg>\n",
              "    </button>\n",
              "\n",
              "  <style>\n",
              "    .colab-df-container {\n",
              "      display:flex;\n",
              "      gap: 12px;\n",
              "    }\n",
              "\n",
              "    .colab-df-convert {\n",
              "      background-color: #E8F0FE;\n",
              "      border: none;\n",
              "      border-radius: 50%;\n",
              "      cursor: pointer;\n",
              "      display: none;\n",
              "      fill: #1967D2;\n",
              "      height: 32px;\n",
              "      padding: 0 0 0 0;\n",
              "      width: 32px;\n",
              "    }\n",
              "\n",
              "    .colab-df-convert:hover {\n",
              "      background-color: #E2EBFA;\n",
              "      box-shadow: 0px 1px 2px rgba(60, 64, 67, 0.3), 0px 1px 3px 1px rgba(60, 64, 67, 0.15);\n",
              "      fill: #174EA6;\n",
              "    }\n",
              "\n",
              "    .colab-df-buttons div {\n",
              "      margin-bottom: 4px;\n",
              "    }\n",
              "\n",
              "    [theme=dark] .colab-df-convert {\n",
              "      background-color: #3B4455;\n",
              "      fill: #D2E3FC;\n",
              "    }\n",
              "\n",
              "    [theme=dark] .colab-df-convert:hover {\n",
              "      background-color: #434B5C;\n",
              "      box-shadow: 0px 1px 3px 1px rgba(0, 0, 0, 0.15);\n",
              "      filter: drop-shadow(0px 1px 2px rgba(0, 0, 0, 0.3));\n",
              "      fill: #FFFFFF;\n",
              "    }\n",
              "  </style>\n",
              "\n",
              "    <script>\n",
              "      const buttonEl =\n",
              "        document.querySelector('#df-df20d0be-7346-48cf-9b73-ce7576d6a552 button.colab-df-convert');\n",
              "      buttonEl.style.display =\n",
              "        google.colab.kernel.accessAllowed ? 'block' : 'none';\n",
              "\n",
              "      async function convertToInteractive(key) {\n",
              "        const element = document.querySelector('#df-df20d0be-7346-48cf-9b73-ce7576d6a552');\n",
              "        const dataTable =\n",
              "          await google.colab.kernel.invokeFunction('convertToInteractive',\n",
              "                                                    [key], {});\n",
              "        if (!dataTable) return;\n",
              "\n",
              "        const docLinkHtml = 'Like what you see? Visit the ' +\n",
              "          '<a target=\"_blank\" href=https://colab.research.google.com/notebooks/data_table.ipynb>data table notebook</a>'\n",
              "          + ' to learn more about interactive tables.';\n",
              "        element.innerHTML = '';\n",
              "        dataTable['output_type'] = 'display_data';\n",
              "        await google.colab.output.renderOutput(dataTable, element);\n",
              "        const docLink = document.createElement('div');\n",
              "        docLink.innerHTML = docLinkHtml;\n",
              "        element.appendChild(docLink);\n",
              "      }\n",
              "    </script>\n",
              "  </div>\n",
              "\n",
              "\n",
              "    </div>\n",
              "  </div>\n"
            ]
          },
          "metadata": {},
          "execution_count": 5
        }
      ]
    },
    {
      "cell_type": "markdown",
      "source": [
        "### Alternative names"
      ],
      "metadata": {
        "id": "OEQE_f-Ul3gD"
      }
    },
    {
      "cell_type": "code",
      "source": [
        "%%bigquery --project=insyspo\n",
        "\n",
        "DROP TABLE IF EXISTS `insyspo.publicdb_openaire_model.organizations_alternativenames`;\n",
        "CREATE TABLE `insyspo.publicdb_openaire_model.organizations_alternativenames` AS (\n",
        "  SELECT\n",
        "    JSON_EXTRACT_SCALAR(organization, '$.id') AS id,\n",
        "    TRIM(alternativenames,'\"') AS alternativenames,\n",
        "  FROM `insyspo.projectdb_openaire.organizations`,\n",
        "  UNNEST(JSON_EXTRACT_ARRAY(organization, '$.alternativenames')) alternativenames\n",
        ")"
      ],
      "metadata": {
        "colab": {
          "base_uri": "https://localhost:8080/",
          "height": 85,
          "referenced_widgets": [
            "94e773ee6f13411ca012563e3b077473",
            "3a6470936c3d4689881a24a27c5f089d",
            "96b3a56b6ea540419c12de8ff45a10c2",
            "c0330bf0e0cf461a87fcfdc538592571",
            "8f146d33d50d4222bd0bdc2fd4ce627e",
            "899d4becc6264d2f958316840c503080",
            "8e494ff29d394f35a20fcfb577dc3351",
            "77b8d65f3dcb4565bf18853d1b9cd2c5",
            "c7f6c5b5b8064a9b9037c1e66eefc68f",
            "1b83b49ce7534e38ba0252c5cb8bf95c",
            "841677e346e74ae68fc81a98bd418d00"
          ]
        },
        "id": "OJOpUPQ9l9a_",
        "outputId": "2660ac75-987c-4d42-e40f-a70b1f7eda75"
      },
      "execution_count": null,
      "outputs": [
        {
          "output_type": "display_data",
          "data": {
            "text/plain": [
              "Query is running:   0%|          |"
            ],
            "application/vnd.jupyter.widget-view+json": {
              "version_major": 2,
              "version_minor": 0,
              "model_id": "94e773ee6f13411ca012563e3b077473"
            }
          },
          "metadata": {}
        },
        {
          "output_type": "execute_result",
          "data": {
            "text/plain": [
              "Empty DataFrame\n",
              "Columns: []\n",
              "Index: []"
            ],
            "text/html": [
              "\n",
              "  <div id=\"df-751f4791-ff30-4a0a-9e6f-ae40342b33ff\" class=\"colab-df-container\">\n",
              "    <div>\n",
              "<style scoped>\n",
              "    .dataframe tbody tr th:only-of-type {\n",
              "        vertical-align: middle;\n",
              "    }\n",
              "\n",
              "    .dataframe tbody tr th {\n",
              "        vertical-align: top;\n",
              "    }\n",
              "\n",
              "    .dataframe thead th {\n",
              "        text-align: right;\n",
              "    }\n",
              "</style>\n",
              "<table border=\"1\" class=\"dataframe\">\n",
              "  <thead>\n",
              "    <tr style=\"text-align: right;\">\n",
              "      <th></th>\n",
              "    </tr>\n",
              "  </thead>\n",
              "  <tbody>\n",
              "  </tbody>\n",
              "</table>\n",
              "</div>\n",
              "    <div class=\"colab-df-buttons\">\n",
              "\n",
              "  <div class=\"colab-df-container\">\n",
              "    <button class=\"colab-df-convert\" onclick=\"convertToInteractive('df-751f4791-ff30-4a0a-9e6f-ae40342b33ff')\"\n",
              "            title=\"Convert this dataframe to an interactive table.\"\n",
              "            style=\"display:none;\">\n",
              "\n",
              "  <svg xmlns=\"http://www.w3.org/2000/svg\" height=\"24px\" viewBox=\"0 -960 960 960\">\n",
              "    <path d=\"M120-120v-720h720v720H120Zm60-500h600v-160H180v160Zm220 220h160v-160H400v160Zm0 220h160v-160H400v160ZM180-400h160v-160H180v160Zm440 0h160v-160H620v160ZM180-180h160v-160H180v160Zm440 0h160v-160H620v160Z\"/>\n",
              "  </svg>\n",
              "    </button>\n",
              "\n",
              "  <style>\n",
              "    .colab-df-container {\n",
              "      display:flex;\n",
              "      gap: 12px;\n",
              "    }\n",
              "\n",
              "    .colab-df-convert {\n",
              "      background-color: #E8F0FE;\n",
              "      border: none;\n",
              "      border-radius: 50%;\n",
              "      cursor: pointer;\n",
              "      display: none;\n",
              "      fill: #1967D2;\n",
              "      height: 32px;\n",
              "      padding: 0 0 0 0;\n",
              "      width: 32px;\n",
              "    }\n",
              "\n",
              "    .colab-df-convert:hover {\n",
              "      background-color: #E2EBFA;\n",
              "      box-shadow: 0px 1px 2px rgba(60, 64, 67, 0.3), 0px 1px 3px 1px rgba(60, 64, 67, 0.15);\n",
              "      fill: #174EA6;\n",
              "    }\n",
              "\n",
              "    .colab-df-buttons div {\n",
              "      margin-bottom: 4px;\n",
              "    }\n",
              "\n",
              "    [theme=dark] .colab-df-convert {\n",
              "      background-color: #3B4455;\n",
              "      fill: #D2E3FC;\n",
              "    }\n",
              "\n",
              "    [theme=dark] .colab-df-convert:hover {\n",
              "      background-color: #434B5C;\n",
              "      box-shadow: 0px 1px 3px 1px rgba(0, 0, 0, 0.15);\n",
              "      filter: drop-shadow(0px 1px 2px rgba(0, 0, 0, 0.3));\n",
              "      fill: #FFFFFF;\n",
              "    }\n",
              "  </style>\n",
              "\n",
              "    <script>\n",
              "      const buttonEl =\n",
              "        document.querySelector('#df-751f4791-ff30-4a0a-9e6f-ae40342b33ff button.colab-df-convert');\n",
              "      buttonEl.style.display =\n",
              "        google.colab.kernel.accessAllowed ? 'block' : 'none';\n",
              "\n",
              "      async function convertToInteractive(key) {\n",
              "        const element = document.querySelector('#df-751f4791-ff30-4a0a-9e6f-ae40342b33ff');\n",
              "        const dataTable =\n",
              "          await google.colab.kernel.invokeFunction('convertToInteractive',\n",
              "                                                    [key], {});\n",
              "        if (!dataTable) return;\n",
              "\n",
              "        const docLinkHtml = 'Like what you see? Visit the ' +\n",
              "          '<a target=\"_blank\" href=https://colab.research.google.com/notebooks/data_table.ipynb>data table notebook</a>'\n",
              "          + ' to learn more about interactive tables.';\n",
              "        element.innerHTML = '';\n",
              "        dataTable['output_type'] = 'display_data';\n",
              "        await google.colab.output.renderOutput(dataTable, element);\n",
              "        const docLink = document.createElement('div');\n",
              "        docLink.innerHTML = docLinkHtml;\n",
              "        element.appendChild(docLink);\n",
              "      }\n",
              "    </script>\n",
              "  </div>\n",
              "\n",
              "\n",
              "    </div>\n",
              "  </div>\n"
            ]
          },
          "metadata": {},
          "execution_count": 4
        }
      ]
    },
    {
      "cell_type": "markdown",
      "source": [
        "### PIDs"
      ],
      "metadata": {
        "id": "WnyrGkMmoYTc"
      }
    },
    {
      "cell_type": "code",
      "source": [
        "%%bigquery --project=insyspo\n",
        "\n",
        "DROP TABLE IF EXISTS `insyspo.publicdb_openaire_model.organizations_pids`;\n",
        "CREATE TABLE `insyspo.publicdb_openaire_model.organizations_pids` AS (\n",
        "  SELECT\n",
        "    JSON_EXTRACT_SCALAR(organization, '$.id') AS id,\n",
        "    TRIM(pid,'\"') AS pid,\n",
        "  FROM `insyspo.projectdb_openaire.organizations`,\n",
        "  UNNEST(JSON_EXTRACT_ARRAY(organization, '$.pid')) pid\n",
        ")"
      ],
      "metadata": {
        "id": "EDzFGslGnY6f"
      },
      "execution_count": null,
      "outputs": []
    },
    {
      "cell_type": "markdown",
      "source": [],
      "metadata": {
        "id": "2p4TStKfAwIj"
      }
    },
    {
      "cell_type": "markdown",
      "source": [],
      "metadata": {
        "id": "B1M7yLNVA-Zf"
      }
    },
    {
      "cell_type": "markdown",
      "source": [
        "### Sources"
      ],
      "metadata": {
        "id": "UiY5n2nvA_Hj"
      }
    },
    {
      "cell_type": "code",
      "source": [
        "%%bigquery\n",
        "\n",
        "DROP TABLE IF EXISTS `insyspo.publicdb_openaire_rm.sources`;\n",
        "CREATE TABLE `insyspo.publicdb_openaire_rm.sources` AS (\n",
        "  SELECT\n",
        "    TRIM(JSON_QUERY(organization, '$.id'),'\"') AS id,\n",
        "    TRIM(JSON_QUERY(organization, '$.englishname'),'\"') AS englishname,\n",
        "    TRIM(JSON_QUERY(organization, '$.name'),'\"') AS name,\n",
        "    TRIM(JSON_QUERY(organization, '$.officialname'),'\"') AS officialname,\n",
        "    TRIM(JSON_QUERY(organization, '$.openariecompatibility'),'\"') AS openariecompatibility,\n",
        "    TRIM(JSON_QUERY(organization, '$.riginalId'),'\"') AS riginalId,\n",
        "  FROM `insyspo.projectdb_openaire.organizations`"
      ],
      "metadata": {
        "id": "aDmosRcBA8WF"
      },
      "execution_count": null,
      "outputs": []
    }
  ]
}